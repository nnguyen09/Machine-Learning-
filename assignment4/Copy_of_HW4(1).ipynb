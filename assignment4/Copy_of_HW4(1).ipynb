{
  "cells": [
    {
      "cell_type": "markdown",
      "metadata": {
        "id": "z1sWnifp92sn"
      },
      "source": [
        "# COMP4220: Machine Learning, Spring 2022, Assignment 4\n",
        "\n",
        "\n",
        "> ## **Please submit one pdf file for all questions.**\n"
      ]
    },
    {
      "cell_type": "markdown",
      "source": [
        "# 1. KMeans:"
      ],
      "metadata": {
        "id": "mKgaw3J5vOcg"
      }
    },
    {
      "cell_type": "code",
      "execution_count": 14,
      "metadata": {
        "id": "GOE9QaVsjW9O"
      },
      "outputs": [],
      "source": [
        "#importing the libraries --add any additional libraries you will need here\n",
        "%matplotlib inline\n",
        "import matplotlib.pyplot as plt\n",
        "import numpy as np\n",
        "import pandas as pd \n",
        "from sklearn.cluster import KMeans\n",
        "from sklearn.metrics import accuracy_score\n",
        "import seaborn as sns\n"
      ]
    },
    {
      "cell_type": "code",
      "execution_count": 15,
      "metadata": {
        "id": "hZia0apFkQ8Y"
      },
      "outputs": [],
      "source": [
        "url = \"https://raw.githubusercontent.com/nnguyen09/Machine-Learning-/master/assignment4/titanic.csv\"\n",
        "\n",
        "X_train = pd.read_csv(url)\n",
        "\n",
        "\n",
        "# removing the columns not of interest\n",
        "X_train = X_train.drop(['PassengerId','Name','Ticket', 'Cabin','Embarked','Pclass','SibSp','Sex','Parch','Fare'], axis=1)\n",
        "\n",
        "# removing rows of data with NaN \n",
        "X_train = X_train[X_train['Age'].notna()]\n",
        "\n",
        "\n"
      ]
    },
    {
      "cell_type": "code",
      "source": [
        "from google.colab import drive\n",
        "drive.mount('/content/drive')"
      ],
      "metadata": {
        "colab": {
          "base_uri": "https://localhost:8080/"
        },
        "id": "YCFdDnpoSomX",
        "outputId": "2bca5743-a665-4bd9-8467-88a3386afe85"
      },
      "execution_count": 16,
      "outputs": [
        {
          "output_type": "stream",
          "name": "stdout",
          "text": [
            "Drive already mounted at /content/drive; to attempt to forcibly remount, call drive.mount(\"/content/drive\", force_remount=True).\n"
          ]
        }
      ]
    },
    {
      "cell_type": "markdown",
      "source": [
        "## a) Define X and y from the training data. Answer provided. Print X and y to see data."
      ],
      "metadata": {
        "id": "d1fomgtMrtgg"
      }
    },
    {
      "cell_type": "code",
      "source": [
        "X = X_train.drop(['Survived'], 1).astype(float)\n",
        "y = X_train['Survived']\n"
      ],
      "metadata": {
        "id": "umt7MIMvraqH",
        "colab": {
          "base_uri": "https://localhost:8080/"
        },
        "outputId": "8dc5168e-65c9-4125-88ef-5952ab47a4d6"
      },
      "execution_count": 17,
      "outputs": [
        {
          "output_type": "stream",
          "name": "stderr",
          "text": [
            "/usr/local/lib/python3.7/dist-packages/ipykernel_launcher.py:1: FutureWarning: In a future version of pandas all arguments of DataFrame.drop except for the argument 'labels' will be keyword-only\n",
            "  \"\"\"Entry point for launching an IPython kernel.\n"
          ]
        }
      ]
    },
    {
      "cell_type": "markdown",
      "metadata": {
        "id": "XWhXjAQ-92st"
      },
      "source": [
        "## b) Perform KMeans on X"
      ]
    },
    {
      "cell_type": "code",
      "execution_count": 18,
      "metadata": {
        "id": "XxLuLhTUUWAM",
        "colab": {
          "base_uri": "https://localhost:8080/"
        },
        "outputId": "8519a12b-c3ad-40f7-ac22-890b527ea886"
      },
      "outputs": [
        {
          "output_type": "execute_result",
          "data": {
            "text/plain": [
              "KMeans(n_clusters=2)"
            ]
          },
          "metadata": {},
          "execution_count": 18
        }
      ],
      "source": [
        "kmeans = KMeans(n_clusters=2)\n",
        "kmeans.fit(X)\n"
      ]
    },
    {
      "cell_type": "markdown",
      "source": [
        "## c) Plot the prediction for X"
      ],
      "metadata": {
        "id": "xQgmI1AUvsCx"
      }
    },
    {
      "cell_type": "code",
      "source": [
        "#prediction for X\n",
        "y_kmeans = kmeans.predict(X)\n",
        "\n",
        "plt.scatter(y_kmeans, X, c=y_kmeans, s=50, cmap='viridis')\n",
        "plt.xlabel('survive')\n",
        "plt.ylabel('Age')\n",
        "centers = kmeans.cluster_centers_\n"
      ],
      "metadata": {
        "id": "vxieIbRcv4ea",
        "colab": {
          "base_uri": "https://localhost:8080/",
          "height": 279
        },
        "outputId": "0e17f02f-39ea-436e-fa63-a1bc6392695d"
      },
      "execution_count": 19,
      "outputs": [
        {
          "output_type": "display_data",
          "data": {
            "text/plain": [
              "<Figure size 432x288 with 1 Axes>"
            ],
            "image/png": "[encoded data removed]"
          },
          "metadata": {
            "needs_background": "light"
          }
        }
      ]
    },
    {
      "cell_type": "markdown",
      "source": [
        "## d) Compute the accuracy "
      ],
      "metadata": {
        "id": "rDW1L4fTwF6n"
      }
    },
    {
      "cell_type": "code",
      "source": [
        "from sklearn.metrics import accuracy_score\n",
        "accuracy_score(y, y_kmeans)\n"
      ],
      "metadata": {
        "id": "Tdi3bVxHv6SM",
        "colab": {
          "base_uri": "https://localhost:8080/"
        },
        "outputId": "c9b35e81-9f55-430b-b0e1-9a3967b56d52"
      },
      "execution_count": 20,
      "outputs": [
        {
          "output_type": "execute_result",
          "data": {
            "text/plain": [
              "0.48179271708683474"
            ]
          },
          "metadata": {},
          "execution_count": 20
        }
      ]
    },
    {
      "cell_type": "markdown",
      "source": [
        ""
      ],
      "metadata": {
        "id": "nx5-IiikwEbO"
      }
    },
    {
      "cell_type": "markdown",
      "metadata": {
        "id": "vqivieyN92sv"
      },
      "source": [
        "# 2. Classification using SVM\n",
        "\n",
        "---\n",
        "\n"
      ]
    },
    {
      "cell_type": "markdown",
      "source": [
        "This is data collected from brain waves collection during a pain detection research project."
      ],
      "metadata": {
        "id": "3YWM1nbf3YOm"
      }
    },
    {
      "cell_type": "code",
      "source": [
        "import numpy as np\n",
        "from sklearn.pipeline import Pipeline\n",
        "from sklearn.preprocessing import StandardScaler\n",
        "from sklearn.svm import LinearSVC"
      ],
      "metadata": {
        "id": "QXrutmKLyqFd"
      },
      "execution_count": 21,
      "outputs": []
    },
    {
      "cell_type": "code",
      "source": [
        "url_pain_csv = 'https://raw.githubusercontent.com/nnguyen09/Machine-Learning-/master/assignment4/pain.csv'\n",
        "painData = pd.read_csv(url_pain_csv)"
      ],
      "metadata": {
        "id": "U4EZmoSw1vF1"
      },
      "execution_count": 22,
      "outputs": []
    },
    {
      "cell_type": "code",
      "source": [
        "painData = painData.drop(['SubjectID','Index','Date', 'Time'], axis=1)\n",
        "painData"
      ],
      "metadata": {
        "id": "iOoNR2cH3GAr",
        "colab": {
          "base_uri": "https://localhost:8080/",
          "height": 424
        },
        "outputId": "17190114-5de5-4d8a-8ab4-d33eacaed47d"
      },
      "execution_count": 23,
      "outputs": [
        {
          "output_type": "execute_result",
          "data": {
            "text/plain": [
              "            PainType        TP9         AF7        AF8       TP10  Right Axis  \\\n",
              "0        severe pain  68.847656  -73.242188  18.066406  27.832031   25.390625   \n",
              "1        severe pain  44.921875 -235.351562  36.621094  27.832031   -4.394531   \n",
              "2        severe pain -11.230469  -81.054688  45.410156  29.296875   12.207031   \n",
              "3        severe pain  -2.929688   17.089844  33.203125  24.902344   44.433594   \n",
              "4        severe pain  10.253906  -58.105469  32.226562  14.648438   -0.976562   \n",
              "...              ...        ...         ...        ...        ...         ...   \n",
              "60191  moderate pain  33.203125  287.597656  45.898438  27.832031   25.878906   \n",
              "60192  moderate pain  24.414062  -20.507812  32.226562  21.484375   34.179688   \n",
              "60193  moderate pain  28.808594 -270.019531  24.902344  24.902344   34.667969   \n",
              "60194  moderate pain  37.109375 -190.917969  30.761719  31.250000  -36.132812   \n",
              "60195  moderate pain  31.250000  137.695312  36.132812  32.714844   -8.789062   \n",
              "\n",
              "       label  \n",
              "0          3  \n",
              "1          3  \n",
              "2          3  \n",
              "3          3  \n",
              "4          3  \n",
              "...      ...  \n",
              "60191      2  \n",
              "60192      2  \n",
              "60193      2  \n",
              "60194      2  \n",
              "60195      2  \n",
              "\n",
              "[60196 rows x 7 columns]"
            ],
            "text/html": [
              "\n",
              "  <div id=\"df-1fad5220-ffcf-46d7-af08-c9a10d99495b\">\n",
              "    <div class=\"colab-df-container\">\n",
              "      <div>\n",
              "<style scoped>\n",
              "    .dataframe tbody tr th:only-of-type {\n",
              "        vertical-align: middle;\n",
              "    }\n",
              "\n",
              "    .dataframe tbody tr th {\n",
              "        vertical-align: top;\n",
              "    }\n",
              "\n",
              "    .dataframe thead th {\n",
              "        text-align: right;\n",
              "    }\n",
              "</style>\n",
              "<table border=\"1\" class=\"dataframe\">\n",
              "  <thead>\n",
              "    <tr style=\"text-align: right;\">\n",
              "      <th></th>\n",
              "      <th>PainType</th>\n",
              "      <th>TP9</th>\n",
              "      <th>AF7</th>\n",
              "      <th>AF8</th>\n",
              "      <th>TP10</th>\n",
              "      <th>Right Axis</th>\n",
              "      <th>label</th>\n",
              "    </tr>\n",
              "  </thead>\n",
              "  <tbody>\n",
              "    <tr>\n",
              "      <th>0</th>\n",
              "      <td>severe pain</td>\n",
              "      <td>68.847656</td>\n",
              "      <td>-73.242188</td>\n",
              "      <td>18.066406</td>\n",
              "      <td>27.832031</td>\n",
              "      <td>25.390625</td>\n",
              "      <td>3</td>\n",
              "    </tr>\n",
              "    <tr>\n",
              "      <th>1</th>\n",
              "      <td>severe pain</td>\n",
              "      <td>44.921875</td>\n",
              "      <td>-235.351562</td>\n",
              "      <td>36.621094</td>\n",
              "      <td>27.832031</td>\n",
              "      <td>-4.394531</td>\n",
              "      <td>3</td>\n",
              "    </tr>\n",
              "    <tr>\n",
              "      <th>2</th>\n",
              "      <td>severe pain</td>\n",
              "      <td>-11.230469</td>\n",
              "      <td>-81.054688</td>\n",
              "      <td>45.410156</td>\n",
              "      <td>29.296875</td>\n",
              "      <td>12.207031</td>\n",
              "      <td>3</td>\n",
              "    </tr>\n",
              "    <tr>\n",
              "      <th>3</th>\n",
              "      <td>severe pain</td>\n",
              "      <td>-2.929688</td>\n",
              "      <td>17.089844</td>\n",
              "      <td>33.203125</td>\n",
              "      <td>24.902344</td>\n",
              "      <td>44.433594</td>\n",
              "      <td>3</td>\n",
              "    </tr>\n",
              "    <tr>\n",
              "      <th>4</th>\n",
              "      <td>severe pain</td>\n",
              "      <td>10.253906</td>\n",
              "      <td>-58.105469</td>\n",
              "      <td>32.226562</td>\n",
              "      <td>14.648438</td>\n",
              "      <td>-0.976562</td>\n",
              "      <td>3</td>\n",
              "    </tr>\n",
              "    <tr>\n",
              "      <th>...</th>\n",
              "      <td>...</td>\n",
              "      <td>...</td>\n",
              "      <td>...</td>\n",
              "      <td>...</td>\n",
              "      <td>...</td>\n",
              "      <td>...</td>\n",
              "      <td>...</td>\n",
              "    </tr>\n",
              "    <tr>\n",
              "      <th>60191</th>\n",
              "      <td>moderate pain</td>\n",
              "      <td>33.203125</td>\n",
              "      <td>287.597656</td>\n",
              "      <td>45.898438</td>\n",
              "      <td>27.832031</td>\n",
              "      <td>25.878906</td>\n",
              "      <td>2</td>\n",
              "    </tr>\n",
              "    <tr>\n",
              "      <th>60192</th>\n",
              "      <td>moderate pain</td>\n",
              "      <td>24.414062</td>\n",
              "      <td>-20.507812</td>\n",
              "      <td>32.226562</td>\n",
              "      <td>21.484375</td>\n",
              "      <td>34.179688</td>\n",
              "      <td>2</td>\n",
              "    </tr>\n",
              "    <tr>\n",
              "      <th>60193</th>\n",
              "      <td>moderate pain</td>\n",
              "      <td>28.808594</td>\n",
              "      <td>-270.019531</td>\n",
              "      <td>24.902344</td>\n",
              "      <td>24.902344</td>\n",
              "      <td>34.667969</td>\n",
              "      <td>2</td>\n",
              "    </tr>\n",
              "    <tr>\n",
              "      <th>60194</th>\n",
              "      <td>moderate pain</td>\n",
              "      <td>37.109375</td>\n",
              "      <td>-190.917969</td>\n",
              "      <td>30.761719</td>\n",
              "      <td>31.250000</td>\n",
              "      <td>-36.132812</td>\n",
              "      <td>2</td>\n",
              "    </tr>\n",
              "    <tr>\n",
              "      <th>60195</th>\n",
              "      <td>moderate pain</td>\n",
              "      <td>31.250000</td>\n",
              "      <td>137.695312</td>\n",
              "      <td>36.132812</td>\n",
              "      <td>32.714844</td>\n",
              "      <td>-8.789062</td>\n",
              "      <td>2</td>\n",
              "    </tr>\n",
              "  </tbody>\n",
              "</table>\n",
              "<p>60196 rows × 7 columns</p>\n",
              "</div>\n",
              "      <button class=\"colab-df-convert\" onclick=\"convertToInteractive('df-1fad5220-ffcf-46d7-af08-c9a10d99495b')\"\n",
              "              title=\"Convert this dataframe to an interactive table.\"\n",
              "              style=\"display:none;\">\n",
              "        \n",
              "  <svg xmlns=\"http://www.w3.org/2000/svg\" height=\"24px\"viewBox=\"0 0 24 24\"\n",
              "       width=\"24px\">\n",
              "    <path d=\"M0 0h24v24H0V0z\" fill=\"none\"/>\n",
              "    <path d=\"M18.56 5.44l.94 2.06.94-2.06 2.06-.94-2.06-.94-.94-2.06-.94 2.06-2.06.94zm-11 1L8.5 8.5l.94-2.06 2.06-.94-2.06-.94L8.5 2.5l-.94 2.06-2.06.94zm10 10l.94 2.06.94-2.06 2.06-.94-2.06-.94-.94-2.06-.94 2.06-2.06.94z\"/><path d=\"M17.41 7.96l-1.37-1.37c-.4-.4-.92-.59-1.43-.59-.52 0-1.04.2-1.43.59L10.3 9.45l-7.72 7.72c-.78.78-.78 2.05 0 2.83L4 21.41c.39.39.9.59 1.41.59.51 0 1.02-.2 1.41-.59l7.78-7.78 2.81-2.81c.8-.78.8-2.07 0-2.86zM5.41 20L4 18.59l7.72-7.72 1.47 1.35L5.41 20z\"/>\n",
              "  </svg>\n",
              "      </button>\n",
              "      \n",
              "  <style>\n",
              "    .colab-df-container {\n",
              "      display:flex;\n",
              "      flex-wrap:wrap;\n",
              "      gap: 12px;\n",
              "    }\n",
              "\n",
              "    .colab-df-convert {\n",
              "      background-color: #E8F0FE;\n",
              "      border: none;\n",
              "      border-radius: 50%;\n",
              "      cursor: pointer;\n",
              "      display: none;\n",
              "      fill: #1967D2;\n",
              "      height: 32px;\n",
              "      padding: 0 0 0 0;\n",
              "      width: 32px;\n",
              "    }\n",
              "\n",
              "    .colab-df-convert:hover {\n",
              "      background-color: #E2EBFA;\n",
              "      box-shadow: 0px 1px 2px rgba(60, 64, 67, 0.3), 0px 1px 3px 1px rgba(60, 64, 67, 0.15);\n",
              "      fill: #174EA6;\n",
              "    }\n",
              "\n",
              "    [theme=dark] .colab-df-convert {\n",
              "      background-color: #3B4455;\n",
              "      fill: #D2E3FC;\n",
              "    }\n",
              "\n",
              "    [theme=dark] .colab-df-convert:hover {\n",
              "      background-color: #434B5C;\n",
              "      box-shadow: 0px 1px 3px 1px rgba(0, 0, 0, 0.15);\n",
              "      filter: drop-shadow(0px 1px 2px rgba(0, 0, 0, 0.3));\n",
              "      fill: #FFFFFF;\n",
              "    }\n",
              "  </style>\n",
              "\n",
              "      <script>\n",
              "        const buttonEl =\n",
              "          document.querySelector('#df-1fad5220-ffcf-46d7-af08-c9a10d99495b button.colab-df-convert');\n",
              "        buttonEl.style.display =\n",
              "          google.colab.kernel.accessAllowed ? 'block' : 'none';\n",
              "\n",
              "        async function convertToInteractive(key) {\n",
              "          const element = document.querySelector('#df-1fad5220-ffcf-46d7-af08-c9a10d99495b');\n",
              "          const dataTable =\n",
              "            await google.colab.kernel.invokeFunction('convertToInteractive',\n",
              "                                                     [key], {});\n",
              "          if (!dataTable) return;\n",
              "\n",
              "          const docLinkHtml = 'Like what you see? Visit the ' +\n",
              "            '<a target=\"_blank\" href=https://colab.research.google.com/notebooks/data_table.ipynb>data table notebook</a>'\n",
              "            + ' to learn more about interactive tables.';\n",
              "          element.innerHTML = '';\n",
              "          dataTable['output_type'] = 'display_data';\n",
              "          await google.colab.output.renderOutput(dataTable, element);\n",
              "          const docLink = document.createElement('div');\n",
              "          docLink.innerHTML = docLinkHtml;\n",
              "          element.appendChild(docLink);\n",
              "        }\n",
              "      </script>\n",
              "    </div>\n",
              "  </div>\n",
              "  "
            ]
          },
          "metadata": {},
          "execution_count": 23
        }
      ]
    },
    {
      "cell_type": "markdown",
      "source": [
        "The label column is the target, and pain type is an explanation."
      ],
      "metadata": {
        "id": "lo2GwRx56cTm"
      }
    },
    {
      "cell_type": "markdown",
      "source": [
        "## a) Get X and y from painData above. X is TP9 and Right Axis. Y is label."
      ],
      "metadata": {
        "id": "hl4CaS-476D0"
      }
    },
    {
      "cell_type": "code",
      "source": [
        "X=painData[['TP9','Right Axis']]\n",
        "print(X)\n",
        "y=painData[['label']]\n",
        "print(y)"
      ],
      "metadata": {
        "id": "LuRACWQe8eRD",
        "colab": {
          "base_uri": "https://localhost:8080/"
        },
        "outputId": "c7daf298-5c42-4626-a4e6-58fe56e21e20"
      },
      "execution_count": 24,
      "outputs": [
        {
          "output_type": "stream",
          "name": "stdout",
          "text": [
            "             TP9  Right Axis\n",
            "0      68.847656   25.390625\n",
            "1      44.921875   -4.394531\n",
            "2     -11.230469   12.207031\n",
            "3      -2.929688   44.433594\n",
            "4      10.253906   -0.976562\n",
            "...          ...         ...\n",
            "60191  33.203125   25.878906\n",
            "60192  24.414062   34.179688\n",
            "60193  28.808594   34.667969\n",
            "60194  37.109375  -36.132812\n",
            "60195  31.250000   -8.789062\n",
            "\n",
            "[60196 rows x 2 columns]\n",
            "       label\n",
            "0          3\n",
            "1          3\n",
            "2          3\n",
            "3          3\n",
            "4          3\n",
            "...      ...\n",
            "60191      2\n",
            "60192      2\n",
            "60193      2\n",
            "60194      2\n",
            "60195      2\n",
            "\n",
            "[60196 rows x 1 columns]\n"
          ]
        }
      ]
    },
    {
      "cell_type": "markdown",
      "source": [
        "## a) Using a regularization parameter of c=1 and c=100, using a LinearSVC. "
      ],
      "metadata": {
        "id": "QeChyjE16sUN"
      }
    },
    {
      "cell_type": "code",
      "source": [
        "from sklearn.svm import LinearSVC\n",
        "from sklearn.pipeline import Pipeline\n",
        "from sklearn.preprocessing import StandardScaler \n",
        "from sklearn.svm import LinearSVC\n",
        "\n",
        "scaler = StandardScaler()\n",
        "svm_clf1 = LinearSVC(C=1, loss='hinge', random_state=42)\n",
        "svm_clf2 = LinearSVC(C=100, loss='hinge', random_state=42)\n"
      ],
      "metadata": {
        "id": "W3ou5KoW7D4-"
      },
      "execution_count": 29,
      "outputs": []
    },
    {
      "cell_type": "markdown",
      "source": [
        "## b) Scale the dataset using a pipeline"
      ],
      "metadata": {
        "id": "H2-jupgU7EQi"
      }
    },
    {
      "cell_type": "code",
      "source": [
        "scaled_svm_clf1=Pipeline([('scaler',scaler),('linear_svc', svm_clf1)])\n",
        "scaled_svm_clf2=Pipeline([('scaler',scaler),('linear_svc', svm_clf2)])\n",
        "scaled_svm_clf1.fit(X,y)\n",
        "scaled_svm_clf2.fit(X,y)"
      ],
      "metadata": {
        "id": "nKSyjrYA7QKC",
        "colab": {
          "base_uri": "https://localhost:8080/"
        },
        "outputId": "577219c0-181b-49c8-8ae9-443fd76f0730"
      },
      "execution_count": 30,
      "outputs": [
        {
          "output_type": "stream",
          "name": "stderr",
          "text": [
            "/usr/local/lib/python3.7/dist-packages/sklearn/utils/validation.py:993: DataConversionWarning: A column-vector y was passed when a 1d array was expected. Please change the shape of y to (n_samples, ), for example using ravel().\n",
            "  y = column_or_1d(y, warn=True)\n",
            "/usr/local/lib/python3.7/dist-packages/sklearn/utils/validation.py:993: DataConversionWarning: A column-vector y was passed when a 1d array was expected. Please change the shape of y to (n_samples, ), for example using ravel().\n",
            "  y = column_or_1d(y, warn=True)\n",
            "/usr/local/lib/python3.7/dist-packages/sklearn/svm/_base.py:1208: ConvergenceWarning: Liblinear failed to converge, increase the number of iterations.\n",
            "  ConvergenceWarning,\n"
          ]
        },
        {
          "output_type": "execute_result",
          "data": {
            "text/plain": [
              "Pipeline(steps=[('scaler', StandardScaler()),\n",
              "                ('linear_svc',\n",
              "                 LinearSVC(C=100, loss='hinge', random_state=42))])"
            ]
          },
          "metadata": {},
          "execution_count": 30
        }
      ]
    },
    {
      "cell_type": "markdown",
      "source": [
        "## c) Plot dataset using the regularization parameter of c=1 and c=100"
      ],
      "metadata": {
        "id": "-Dr_M-v37Qlp"
      }
    },
    {
      "cell_type": "code",
      "source": [
        ""
      ],
      "metadata": {
        "id": "oX0Zln767mfS"
      },
      "execution_count": 26,
      "outputs": []
    },
    {
      "cell_type": "markdown",
      "source": [
        "# 3. Decision Trees:\n",
        "Using the same dataset above, meaning X and y"
      ],
      "metadata": {
        "id": "2oykG62V7pWT"
      }
    },
    {
      "cell_type": "markdown",
      "source": [
        "## a) Print the shape of X and y"
      ],
      "metadata": {
        "id": "KXy0694AAY6K"
      }
    },
    {
      "cell_type": "code",
      "source": [
        "print(X.shape)"
      ],
      "metadata": {
        "id": "JjLlm3jkA21N",
        "colab": {
          "base_uri": "https://localhost:8080/"
        },
        "outputId": "55b0e1f9-07b0-4781-eaf7-e6b022d8c49b"
      },
      "execution_count": 27,
      "outputs": [
        {
          "output_type": "stream",
          "name": "stdout",
          "text": [
            "(60196, 2)\n"
          ]
        }
      ]
    },
    {
      "cell_type": "code",
      "source": [
        "print(y.shape)"
      ],
      "metadata": {
        "id": "aIf1IjAzATQs",
        "colab": {
          "base_uri": "https://localhost:8080/"
        },
        "outputId": "a90e0732-8da0-4e99-8ff0-243641ac2a29"
      },
      "execution_count": 28,
      "outputs": [
        {
          "output_type": "stream",
          "name": "stdout",
          "text": [
            "(60196, 1)\n"
          ]
        }
      ]
    },
    {
      "cell_type": "markdown",
      "source": [
        "## b) Train using a decision tree classifier"
      ],
      "metadata": {
        "id": "dmb9U3_1AgBb"
      }
    },
    {
      "cell_type": "code",
      "source": [
        "from sklearn.tree import DecisionTreeClassifier\n",
        "from sklearn import tree\n",
        "tree_clf = DecisionTreeClassifier(max_depth=2, random_state=42) \n",
        "tree_clf.fit(X,y)\n",
        "\n"
      ],
      "metadata": {
        "id": "iZz8EoLLAqGe",
        "colab": {
          "base_uri": "https://localhost:8080/"
        },
        "outputId": "08659170-fbe0-49eb-9d47-d0922631b22b"
      },
      "execution_count": 61,
      "outputs": [
        {
          "output_type": "execute_result",
          "data": {
            "text/plain": [
              "DecisionTreeClassifier(max_depth=2, random_state=42)"
            ]
          },
          "metadata": {},
          "execution_count": 61
        }
      ]
    },
    {
      "cell_type": "markdown",
      "source": [
        "c) Visualize the dataset"
      ],
      "metadata": {
        "id": "uQ1GJeM0AqYZ"
      }
    },
    {
      "cell_type": "code",
      "source": [
        "plt.figure(figsize=(15,10))\n",
        "tree.plot_tree(tree_clf, filled = True)"
      ],
      "metadata": {
        "id": "RhrAIzx5A5GF",
        "colab": {
          "base_uri": "https://localhost:8080/",
          "height": 700
        },
        "outputId": "3ee57dae-085b-4314-d20f-e10e86cf15f8"
      },
      "execution_count": 64,
      "outputs": [
        {
          "output_type": "execute_result",
          "data": {
            "text/plain": [
              "[Text(0.5, 0.8333333333333334, 'X[0] <= 71.045\\ngini = 0.8\\nsamples = 60196\\nvalue = [12516, 11920, 11920, 11920, 11920]'),\n",
              " Text(0.25, 0.5, 'X[0] <= 5.127\\ngini = 0.796\\nsamples = 52405\\nvalue = [11416, 11516, 10596, 11285, 7592]'),\n",
              " Text(0.125, 0.16666666666666666, 'gini = 0.748\\nsamples = 13402\\nvalue = [1239, 1130, 2678, 3712, 4643]'),\n",
              " Text(0.375, 0.16666666666666666, 'gini = 0.776\\nsamples = 39003\\nvalue = [10177, 10386, 7918, 7573, 2949]'),\n",
              " Text(0.75, 0.5, 'X[1] <= -38.818\\ngini = 0.633\\nsamples = 7791\\nvalue = [1100, 404, 1324, 635, 4328]'),\n",
              " Text(0.625, 0.16666666666666666, 'gini = 0.251\\nsamples = 1106\\nvalue = [11, 31, 80, 31, 953]'),\n",
              " Text(0.875, 0.16666666666666666, 'gini = 0.673\\nsamples = 6685\\nvalue = [1089, 373, 1244, 604, 3375]')]"
            ]
          },
          "metadata": {},
          "execution_count": 64
        },
        {
          "output_type": "display_data",
          "data": {
            "text/plain": [
              "<Figure size 1080x720 with 1 Axes>"
            ],
            "image/png": "[encoded data removed]"
          },
          "metadata": {
            "needs_background": "light"
          }
        }
      ]
    },
    {
      "cell_type": "markdown",
      "source": [
        "d) Plot the decision boundaries of the dataset"
      ],
      "metadata": {
        "id": "LZ4oXg_8A4ji"
      }
    },
    {
      "cell_type": "code",
      "source": [
        ""
      ],
      "metadata": {
        "id": "sJWVjOLbBRRC"
      },
      "execution_count": 26,
      "outputs": []
    },
    {
      "cell_type": "markdown",
      "source": [
        "# 4. Ensemble Classifier and Random forest\n",
        "Run on pain.csv"
      ],
      "metadata": {
        "id": "8Xy8_W8HBTK6"
      }
    },
    {
      "cell_type": "code",
      "source": [
        "from sklearn.model_selection import train_test_split\n",
        "\n",
        "X_train, X_test, y_train, y_test = train_test_split(X,y,random_state=42)\n"
      ],
      "metadata": {
        "id": "1WAD3kCnAl4Q"
      },
      "execution_count": 70,
      "outputs": []
    },
    {
      "cell_type": "markdown",
      "source": [
        "## a) Run a voting classifier that includes logistic regression, random forest classifier and SVM"
      ],
      "metadata": {
        "id": "nsE6DWWtBjlA"
      }
    },
    {
      "cell_type": "code",
      "source": [
        "from sklearn.ensemble import RandomForestClassifier\n",
        "from sklearn.ensemble import VotingClassifier\n",
        "from sklearn.linear_model import LogisticRegression\n",
        "from sklearn.svm import SVC\n",
        "\n",
        "log_clf=LogisticRegression(solver=\"lbfgs\", random_state=42)\n",
        "rnd_clf=RandomForestClassifier(n_estimators=100, random_state=42)\n",
        "svm_clf=SVC(gamma=\"scale\", random_state=42)\n",
        "\n",
        "voting_clf=VotingClassifier(\n",
        "    estimators=[('lr',log_clf),('rf',rnd_clf),('svc',svm_clf)],\n",
        "    voting='hard'\n",
        ")\n",
        "\n",
        "voting_clf.fit(X_train,y_train)"
      ],
      "metadata": {
        "id": "OV_y-NvtBiqC",
        "colab": {
          "base_uri": "https://localhost:8080/"
        },
        "outputId": "94bc080d-db83-46d9-f3b3-08e2c24f8786"
      },
      "execution_count": 75,
      "outputs": [
        {
          "output_type": "stream",
          "name": "stderr",
          "text": [
            "/usr/local/lib/python3.7/dist-packages/sklearn/preprocessing/_label.py:98: DataConversionWarning: A column-vector y was passed when a 1d array was expected. Please change the shape of y to (n_samples, ), for example using ravel().\n",
            "  y = column_or_1d(y, warn=True)\n",
            "/usr/local/lib/python3.7/dist-packages/sklearn/preprocessing/_label.py:133: DataConversionWarning: A column-vector y was passed when a 1d array was expected. Please change the shape of y to (n_samples, ), for example using ravel().\n",
            "  y = column_or_1d(y, warn=True)\n"
          ]
        },
        {
          "output_type": "execute_result",
          "data": {
            "text/plain": [
              "VotingClassifier(estimators=[('lr', LogisticRegression(random_state=42)),\n",
              "                             ('rf', RandomForestClassifier(random_state=42)),\n",
              "                             ('svc', SVC(random_state=42))])"
            ]
          },
          "metadata": {},
          "execution_count": 75
        }
      ]
    },
    {
      "cell_type": "markdown",
      "source": [
        "## b) Print the accuracy scores "
      ],
      "metadata": {
        "id": "bP8D_bG1Bvmc"
      }
    },
    {
      "cell_type": "code",
      "source": [
        "from sklearn.metrics import accuracy_score\n",
        "for clf in (log_clf, rnd_clf, svm_clf, voting_clf):\n",
        "    clf.fit(X_train, y_train)\n",
        "    y_pred = clf.predict(X_test)\n",
        "    print(clf.__class__.__name__, accuracy_score(y_test, y_pred))"
      ],
      "metadata": {
        "id": "LQ3KQ4OXCAVm",
        "colab": {
          "base_uri": "https://localhost:8080/"
        },
        "outputId": "d67a3979-b87e-4f14-ee4a-47b51691357f"
      },
      "execution_count": 76,
      "outputs": [
        {
          "output_type": "stream",
          "name": "stderr",
          "text": [
            "/usr/local/lib/python3.7/dist-packages/sklearn/utils/validation.py:993: DataConversionWarning: A column-vector y was passed when a 1d array was expected. Please change the shape of y to (n_samples, ), for example using ravel().\n",
            "  y = column_or_1d(y, warn=True)\n"
          ]
        },
        {
          "output_type": "stream",
          "name": "stdout",
          "text": [
            "LogisticRegression 0.2711808093561034\n"
          ]
        },
        {
          "output_type": "stream",
          "name": "stderr",
          "text": [
            "/usr/local/lib/python3.7/dist-packages/ipykernel_launcher.py:3: DataConversionWarning: A column-vector y was passed when a 1d array was expected. Please change the shape of y to (n_samples,), for example using ravel().\n",
            "  This is separate from the ipykernel package so we can avoid doing imports until\n"
          ]
        },
        {
          "output_type": "stream",
          "name": "stdout",
          "text": [
            "RandomForestClassifier 0.3290584091966244\n"
          ]
        },
        {
          "output_type": "stream",
          "name": "stderr",
          "text": [
            "/usr/local/lib/python3.7/dist-packages/sklearn/utils/validation.py:993: DataConversionWarning: A column-vector y was passed when a 1d array was expected. Please change the shape of y to (n_samples, ), for example using ravel().\n",
            "  y = column_or_1d(y, warn=True)\n"
          ]
        },
        {
          "output_type": "stream",
          "name": "stdout",
          "text": [
            "SVC 0.39331517044321884\n"
          ]
        },
        {
          "output_type": "stream",
          "name": "stderr",
          "text": [
            "/usr/local/lib/python3.7/dist-packages/sklearn/preprocessing/_label.py:98: DataConversionWarning: A column-vector y was passed when a 1d array was expected. Please change the shape of y to (n_samples, ), for example using ravel().\n",
            "  y = column_or_1d(y, warn=True)\n",
            "/usr/local/lib/python3.7/dist-packages/sklearn/preprocessing/_label.py:133: DataConversionWarning: A column-vector y was passed when a 1d array was expected. Please change the shape of y to (n_samples, ), for example using ravel().\n",
            "  y = column_or_1d(y, warn=True)\n"
          ]
        },
        {
          "output_type": "stream",
          "name": "stdout",
          "text": [
            "VotingClassifier 0.36434314572396836\n"
          ]
        }
      ]
    }
  ],
  "metadata": {
    "colab": {
      "name": "Copy of HW4(1).ipynb",
      "provenance": [],
      "collapsed_sections": [],
      "toc_visible": true
    },
    "interpreter": {
      "hash": "41246782ba60c54f3e07f08b69018f3227f9c62ff6098b21acb6270c831827e5"
    },
    "kernelspec": {
      "display_name": "Python 3 (ipykernel)",
      "language": "python",
      "name": "python3"
    },
    "language_info": {
      "codemirror_mode": {
        "name": "ipython",
        "version": 3
      },
      "file_extension": ".py",
      "mimetype": "text/x-python",
      "name": "python",
      "nbconvert_exporter": "python",
      "pygments_lexer": "ipython3",
      "version": "3.9.7"
    }
  },
  "nbformat": 4,
  "nbformat_minor": 0
}