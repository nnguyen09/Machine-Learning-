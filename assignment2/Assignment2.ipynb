{
 "cells": [
  {
   "cell_type": "markdown",
   "metadata": {
    "id": "xolLBPJ6b127"
   },
   "source": [
    "Complete each problem below and print to pdf. Submit the pdf.\n",
    "\n",
    "You will need to work with the three datasets attached to this assignment:\n",
    "\n",
    "*   poverty.csv\n",
    "*   poverty_2.csv\n",
    "*   real_estate.csv"
   ]
  },
  {
   "cell_type": "markdown",
   "metadata": {
    "id": "fajTj7WydVkh"
   },
   "source": [
    "# Problem 1: Univariate Linear Regression"
   ]
  },
  {
   "cell_type": "markdown",
   "metadata": {
    "id": "qY3WWLxLduC_"
   },
   "source": [
    "## 1) import the libraries you will need:\n",
    "numpy \n",
    "pandas\n",
    "matplotlab.pyplot\n",
    "statsmodels.api"
   ]
  },
  {
   "cell_type": "markdown",
   "metadata": {
    "id": "GES3Diiod-VB"
   },
   "source": [
    "## 2) Import the date poverty.csv dataset "
   ]
  },
  {
   "cell_type": "markdown",
   "metadata": {
    "id": "Iil6FA2Fd_60"
   },
   "source": [
    "## 3) Print the dataset indexed upon the location column."
   ]
  },
  {
   "cell_type": "markdown",
   "metadata": {
    "id": "LbI0lor1eCey"
   },
   "source": [
    "## 4) Get useful descriptive statistial data on the dataset.\n",
    "Hint: this is a single line, data._____ "
   ]
  },
  {
   "cell_type": "markdown",
   "metadata": {
    "id": "WIwY_FKS0MQZ"
   },
   "source": [
    "##5) Print the columns"
   ]
  },
  {
   "cell_type": "markdown",
   "metadata": {
    "id": "mh1LJDq4eD-0"
   },
   "source": [
    "## 6) Create a regression line based upon the dependent and independent variables:\n",
    "PovPct \n",
    "Brth18to19\n",
    "\n",
    "In this step only create a scatterplot of the two variables, simply plotting the data.\n",
    "\n",
    "Note: The variable PovPct is the percent of a state’s population in 2000 living in households with incomes below the federally defined poverty level. "
   ]
  },
  {
   "cell_type": "markdown",
   "metadata": {
    "id": "ToC_9hnc3mkd"
   },
   "source": [
    "## 7) Lets create a new variable, x1, as well as the results variable:\n",
    "Example would be\n",
    "1.   x1 = sm.add_constant(x)\n",
    "2.   results = sm.OLS(y, x1).fit()\n",
    "3.   results.summary()\n",
    "\n",
    "This gives you the OLS Regression results, the coefficients table, and some additional tests. The data that you are interested in is the coefficient values. This is the value for the constant you created is b0, and birth19to19 is b1 in the regression equation.\n"
   ]
  },
  {
   "cell_type": "markdown",
   "metadata": {
    "id": "fVJyXsLO4UAD"
   },
   "source": [
    "## 8) Taking the coeffient values for the new constant and the Y variable, create a scatterplot:\n",
    "\n",
    "e.g. \n",
    "yhat = 0.1464*x + 0.25712\n",
    "fig = plt.plot(x, yhat, lw=4, c='red', label = 'regression line')"
   ]
  },
  {
   "cell_type": "markdown",
   "metadata": {
    "id": "RnPQCYcn4Bbq"
   },
   "source": [
    "# Problem 2: Implement code from lecture"
   ]
  },
  {
   "cell_type": "markdown",
   "metadata": {
    "id": "nBbYAVMj4HaL"
   },
   "source": [
    "## 1) Perform linear regression using the normal equation, as done in slides."
   ]
  },
  {
   "cell_type": "markdown",
   "metadata": {
    "id": "56VkD2C04SaF"
   },
   "source": [
    "## 2) Perform linear regression using Scikit-Learn, as done in the slides."
   ]
  },
  {
   "cell_type": "markdown",
   "metadata": {
    "id": "zPQRoKB__648"
   },
   "source": [
    "# Problem 3: Multivariate Linear Regression\n",
    "In this problem we will continue using the poverty dataset. Do poverty and violent crimes affect teen pregnancy?"
   ]
  },
  {
   "cell_type": "markdown",
   "metadata": {
    "id": "YSI7RrmC_H7N"
   },
   "source": [
    "## 1) import the libraries you will need:\n",
    "numpy \n",
    "pandas\n",
    "matplotlab.pyplot\n",
    "statsmodels.api"
   ]
  },
  {
   "cell_type": "code",
   "execution_count": null,
   "metadata": {
    "executionInfo": {
     "elapsed": 4,
     "status": "ok",
     "timestamp": 1644640954361,
     "user": {
      "displayName": "Darlene Barker",
      "photoUrl": "https://lh3.googleusercontent.com/a/default-user=s64",
      "userId": "10389876396040238009"
     },
     "user_tz": 300
    },
    "id": "tx5Ru5TY_H7S"
   },
   "outputs": [],
   "source": [
    "import numpy as np\n",
    "import pandas as pd\n",
    "from sklearn.preprocessing import normalize"
   ]
  },
  {
   "cell_type": "markdown",
   "metadata": {
    "id": "TaWWSisg_649"
   },
   "source": [
    "\n",
    "## 2) Import the dataset, poverty_2.csv, and print it.\n"
   ]
  },
  {
   "cell_type": "markdown",
   "metadata": {
    "id": "3Zf-n8sbeHHL"
   },
   "source": [
    "## 3) We need to normalize the input variables."
   ]
  },
  {
   "cell_type": "code",
   "execution_count": null,
   "metadata": {
    "executionInfo": {
     "elapsed": 119,
     "status": "ok",
     "timestamp": 1644640959178,
     "user": {
      "displayName": "Darlene Barker",
      "photoUrl": "https://lh3.googleusercontent.com/a/default-user=s64",
      "userId": "10389876396040238009"
     },
     "user_tz": 300
    },
    "id": "hO0d_GoUlC3t"
   },
   "outputs": [],
   "source": [
    "data = normalize(data, axis=0)"
   ]
  },
  {
   "cell_type": "markdown",
   "metadata": {
    "id": "-S46a6gpeHHL"
   },
   "source": [
    "## 4) Split the data into input variables, X, and the output variable, Y."
   ]
  },
  {
   "cell_type": "markdown",
   "metadata": {
    "id": "DkF0OabICS20"
   },
   "source": [
    "## 5) Graph the dataset with a seed of 42.\n",
    "Replace the FILLINTHESEVALUES fields."
   ]
  },
  {
   "cell_type": "code",
   "execution_count": null,
   "metadata": {
    "colab": {
     "base_uri": "https://localhost:8080/",
     "height": 248
    },
    "executionInfo": {
     "elapsed": 313,
     "status": "ok",
     "timestamp": 1644640963541,
     "user": {
      "displayName": "Darlene Barker",
      "photoUrl": "https://lh3.googleusercontent.com/a/default-user=s64",
      "userId": "10389876396040238009"
     },
     "user_tz": 300
    },
    "id": "9eJ7bw4ycZib",
    "outputId": "b3f61936-00f4-45f5-9e68-02c1ce91acfd"
   },
   "outputs": [],
   "source": [
    "np.random.seed(42)\n",
    "\n",
    "fig = plt.figure()\n",
    "ax = fig.add_subplot(111, projection='3d')\n",
    "\n",
    "xs = FILLINTHESEVALUES\n",
    "ys = FILLINTHESEVALUES\n",
    "zs = FILLINTHESEVALUES\n",
    "ax.scatter(xs, ys, zs)\n",
    "\n",
    "ax.set_xlabel('FILLINTHESEVALUES')\n",
    "ax.set_ylabel('FILLINTHESEVALUES')\n",
    "ax.set_zlabel('FILLINTHESEVALUES')\n",
    "\n",
    "plt.show()"
   ]
  },
  {
   "cell_type": "markdown",
   "metadata": {
    "id": "Tve3fCf4Vkwp"
   },
   "source": [
    "## 6) Implement  Gradient Descent.\n",
    "This section has be provided. Please run and understand the code."
   ]
  },
  {
   "cell_type": "code",
   "execution_count": null,
   "metadata": {
    "executionInfo": {
     "elapsed": 2,
     "status": "ok",
     "timestamp": 1644640976604,
     "user": {
      "displayName": "Darlene Barker",
      "photoUrl": "https://lh3.googleusercontent.com/a/default-user=s64",
      "userId": "10389876396040238009"
     },
     "user_tz": 300
    },
    "id": "5u9UlY8KVvE7"
   },
   "outputs": [],
   "source": [
    "# hyperparameters\n",
    "learning_rate = 0.05\n",
    "max_iteration = 500\n",
    "\n",
    "#parameters\n",
    "theta = np.zeros((data.shape[1], 1))"
   ]
  },
  {
   "cell_type": "code",
   "execution_count": null,
   "metadata": {
    "executionInfo": {
     "elapsed": 117,
     "status": "ok",
     "timestamp": 1644640980832,
     "user": {
      "displayName": "Darlene Barker",
      "photoUrl": "https://lh3.googleusercontent.com/a/default-user=s64",
      "userId": "10389876396040238009"
     },
     "user_tz": 300
    },
    "id": "o2ec_B8VDjCu"
   },
   "outputs": [],
   "source": [
    "def hypothesis (theta, X) :\n",
    "  tempX = np.ones((X.shape[0], X.shape[1] + 1))\n",
    "  tempX[:,1:] = X\n",
    "  return np.matmul(tempX, theta)"
   ]
  },
  {
   "cell_type": "code",
   "execution_count": null,
   "metadata": {
    "executionInfo": {
     "elapsed": 138,
     "status": "ok",
     "timestamp": 1644640982783,
     "user": {
      "displayName": "Darlene Barker",
      "photoUrl": "https://lh3.googleusercontent.com/a/default-user=s64",
      "userId": "10389876396040238009"
     },
     "user_tz": 300
    },
    "id": "lLP0RAS1PQQ4"
   },
   "outputs": [],
   "source": [
    "def loss (theta, X, Y) :\n",
    "  return np.average(np.square(Y - h(theta, X))) / 2"
   ]
  },
  {
   "cell_type": "code",
   "execution_count": null,
   "metadata": {
    "executionInfo": {
     "elapsed": 131,
     "status": "ok",
     "timestamp": 1644640984238,
     "user": {
      "displayName": "Darlene Barker",
      "photoUrl": "https://lh3.googleusercontent.com/a/default-user=s64",
      "userId": "10389876396040238009"
     },
     "user_tz": 300
    },
    "id": "Nue2ZoX_DnrU"
   },
   "outputs": [],
   "source": [
    "def gradient (theta, X, Y) :\n",
    "  tempX = np.ones((X.shape[0], X.shape[1] + 1))\n",
    "  tempX[:,1:] = X\n",
    "  d_theta = - np.average((Y - h(theta, X)) * tempX, axis= 0)\n",
    "  d_theta = d_theta.reshape((d_theta.shape[0], 1))\n",
    "  return d_theta"
   ]
  },
  {
   "cell_type": "code",
   "execution_count": null,
   "metadata": {
    "executionInfo": {
     "elapsed": 469,
     "status": "ok",
     "timestamp": 1644640985661,
     "user": {
      "displayName": "Darlene Barker",
      "photoUrl": "https://lh3.googleusercontent.com/a/default-user=s64",
      "userId": "10389876396040238009"
     },
     "user_tz": 300
    },
    "id": "dBeDemDvDrif"
   },
   "outputs": [],
   "source": [
    "def gradient_descent (theta, X, Y, learning_rate, max_iteration, gap) :\n",
    "  cost = np.zeros(max_iteration)\n",
    "  for i in range(max_iteration) :\n",
    "    d_theta = gradient (theta, X, Y)\n",
    "    theta = theta - learning_rate * d_theta\n",
    "    cost[i] = loss(theta, X, Y)\n",
    "    if i % gap == 0 :\n",
    "      print ('iteration : ', i, ' loss : ', loss(theta, X, Y)) \n",
    "  return theta, cost"
   ]
  },
  {
   "cell_type": "code",
   "execution_count": null,
   "metadata": {
    "colab": {
     "base_uri": "https://localhost:8080/"
    },
    "executionInfo": {
     "elapsed": 115,
     "status": "ok",
     "timestamp": 1644640988158,
     "user": {
      "displayName": "Darlene Barker",
      "photoUrl": "https://lh3.googleusercontent.com/a/default-user=s64",
      "userId": "10389876396040238009"
     },
     "user_tz": 300
    },
    "id": "5ufuj_wODwQy",
    "outputId": "053dafac-f6d7-4e3f-c9e1-6e46c83b8d6a"
   },
   "outputs": [],
   "source": [
    "# Training model\n",
    "theta, cost = gradient_descent (theta, X, Y, learning_rate, max_iteration, 100)"
   ]
  },
  {
   "cell_type": "code",
   "execution_count": null,
   "metadata": {
    "colab": {
     "base_uri": "https://localhost:8080/"
    },
    "executionInfo": {
     "elapsed": 124,
     "status": "ok",
     "timestamp": 1644641377886,
     "user": {
      "displayName": "Darlene Barker",
      "photoUrl": "https://lh3.googleusercontent.com/a/default-user=s64",
      "userId": "10389876396040238009"
     },
     "user_tz": 300
    },
    "id": "vvpjzEMhD1x8",
    "outputId": "bda03a8b-efa6-40b3-eec6-9ea564136913"
   },
   "outputs": [],
   "source": [
    "#optimal value is :\n",
    "theta"
   ]
  },
  {
   "cell_type": "code",
   "execution_count": null,
   "metadata": {
    "colab": {
     "base_uri": "https://localhost:8080/",
     "height": 295
    },
    "executionInfo": {
     "elapsed": 266,
     "status": "ok",
     "timestamp": 1644641393513,
     "user": {
      "displayName": "Darlene Barker",
      "photoUrl": "https://lh3.googleusercontent.com/a/default-user=s64",
      "userId": "10389876396040238009"
     },
     "user_tz": 300
    },
    "id": "IU5vvSCtD6mR",
    "outputId": "7bac1766-7efa-4c71-90a8-d91aa3017f0c"
   },
   "outputs": [],
   "source": [
    "#plot cost\n",
    "fig, ax = plt.subplots()  \n",
    "ax.plot(np.arange(max_iteration), cost, 'r')  \n",
    "ax.legend(loc='upper right', labels=['batch gradient descent'])\n",
    "ax.set_xlabel('Iterations')  \n",
    "ax.set_ylabel('Cost')  \n",
    "ax.set_title('Error vs. Training Epoch')  \n",
    "\n",
    "plt.show()"
   ]
  },
  {
   "cell_type": "markdown",
   "metadata": {
    "id": "H6J6BrZ6EID4"
   },
   "source": [
    "## 7) Implement Stochastic Gradient Descent. Please run."
   ]
  },
  {
   "cell_type": "code",
   "execution_count": null,
   "metadata": {
    "executionInfo": {
     "elapsed": 155,
     "status": "ok",
     "timestamp": 1644641007501,
     "user": {
      "displayName": "Darlene Barker",
      "photoUrl": "https://lh3.googleusercontent.com/a/default-user=s64",
      "userId": "10389876396040238009"
     },
     "user_tz": 300
    },
    "id": "tUZtoNtNEVU1"
   },
   "outputs": [],
   "source": [
    "def stochastic_gradient_descent (theta, X, Y, learning_rate, max_iteration, gap) :\n",
    "  cost = np.zeros(max_iteration)\n",
    "  for i in range(max_iteration) :\n",
    "    for j in range(X.shape[0]):\n",
    "      d_theta = gradient (theta, X[j,:].reshape(1, X.shape[1]), Y[j,:].reshape(1, 1))\n",
    "      theta = theta - learning_rate * d_theta\n",
    "    \n",
    "    cost[i] = loss(theta, X, Y)\n",
    "    if i % gap == 0 :\n",
    "      print ('iteration : ', i, ' loss : ', loss(theta, X, Y)) \n",
    "  return theta, cost"
   ]
  },
  {
   "cell_type": "code",
   "execution_count": null,
   "metadata": {
    "executionInfo": {
     "elapsed": 129,
     "status": "ok",
     "timestamp": 1644641009568,
     "user": {
      "displayName": "Darlene Barker",
      "photoUrl": "https://lh3.googleusercontent.com/a/default-user=s64",
      "userId": "10389876396040238009"
     },
     "user_tz": 300
    },
    "id": "sCqvlEunEeN7"
   },
   "outputs": [],
   "source": [
    "theta_stoc = np.zeros((data.shape[1], 1))"
   ]
  },
  {
   "cell_type": "code",
   "execution_count": null,
   "metadata": {
    "colab": {
     "base_uri": "https://localhost:8080/"
    },
    "executionInfo": {
     "elapsed": 910,
     "status": "ok",
     "timestamp": 1644641011368,
     "user": {
      "displayName": "Darlene Barker",
      "photoUrl": "https://lh3.googleusercontent.com/a/default-user=s64",
      "userId": "10389876396040238009"
     },
     "user_tz": 300
    },
    "id": "UkEj9jgJE59l",
    "outputId": "0e5cc181-ce6c-4db1-a115-5c1b9c84ad08"
   },
   "outputs": [],
   "source": [
    "theta_stoc, cost_stoc = stochastic_gradient_descent (theta_stoc, X, Y, learning_rate, max_iteration, 100)"
   ]
  },
  {
   "cell_type": "code",
   "execution_count": null,
   "metadata": {
    "colab": {
     "base_uri": "https://localhost:8080/",
     "height": 295
    },
    "executionInfo": {
     "elapsed": 296,
     "status": "ok",
     "timestamp": 1644641012255,
     "user": {
      "displayName": "Darlene Barker",
      "photoUrl": "https://lh3.googleusercontent.com/a/default-user=s64",
      "userId": "10389876396040238009"
     },
     "user_tz": 300
    },
    "id": "t1l_uNl7FSev",
    "outputId": "6a3b6ea5-b8f9-47c6-8d69-315e3ad76500"
   },
   "outputs": [],
   "source": [
    "#plot the cost\n",
    "fig, ax = plt.subplots()  \n",
    "ax.plot(np.arange(max_iteration), cost, 'r')  \n",
    "ax.plot(np.arange(max_iteration), cost_stoc, 'b')  \n",
    "#ax.plot(np.arange(max_iteration), mb_cost, 'g')  \n",
    "ax.legend(loc='upper right', labels=['batch gradient descent', 'stochastic gradient descent'])#, 'mini-batch gradient descent'])\n",
    "ax.set_xlabel('Iterations')  \n",
    "ax.set_ylabel('Cost')  \n",
    "ax.set_title('Error vs. Training Epoch')  \n",
    "\n",
    "plt.show()"
   ]
  },
  {
   "cell_type": "code",
   "execution_count": null,
   "metadata": {
    "colab": {
     "base_uri": "https://localhost:8080/",
     "height": 248
    },
    "executionInfo": {
     "elapsed": 439,
     "status": "ok",
     "timestamp": 1644641033996,
     "user": {
      "displayName": "Darlene Barker",
      "photoUrl": "https://lh3.googleusercontent.com/a/default-user=s64",
      "userId": "10389876396040238009"
     },
     "user_tz": 300
    },
    "id": "zzfzq8IuIEDW",
    "outputId": "b428fd45-d073-41ff-a817-d7f0377f85dd"
   },
   "outputs": [],
   "source": [
    "np.random.seed(42)\n",
    "\n",
    "fig = plt.figure()\n",
    "ax = fig.add_subplot(111, projection='3d')\n",
    "\n",
    "xs = X[:, 0]\n",
    "ys = X[:, 1]\n",
    "zs = Y\n",
    "ax.scatter(xs, ys, zs)\n",
    "\n",
    "ax.set_xlabel('PovPct')\n",
    "ax.set_ylabel('ViolCrime')\n",
    "ax.set_zlabel('TeenBrth')\n",
    "\n",
    "# new \n",
    "x = y = np.arange(0, 0.3, 0.05)\n",
    "xp, yp = np.meshgrid(x, y)\n",
    "z = np.array([h(theta, np.array([[x,y]]))[0, 0] for x,y in zip(np.ravel(xp), np.ravel(yp))])\n",
    "zp = z.reshape(xp.shape)\n",
    "\n",
    "ax.plot_surface(xp, yp, zp, alpha=0.7)\n",
    "\n",
    "plt.show()"
   ]
  },
  {
   "cell_type": "markdown",
   "metadata": {
    "id": "16472KMCdjHL"
   },
   "source": [
    "# Problem 4, predict house price.\n",
    "\n",
    "* import real_estate.csv \n",
    "* Are there any null values in the dataset? Drop any missing data if exist. \n",
    "* Create X as a 1-D array of the distance to the nearest MRT station, and y as the housing price\n",
    "* What is the number of samples in the data set? To do this, you can look at the \"shape\" of X and y\n",
    "* Split the data into train and test sets using sklearn's train_test_split, with test_size = 1/3\n",
    "* Find the line of best fit using a Linear Regression and show the result of coefficients and intercept (you can use sklearn's linear regression)\n",
    "* Using the predict method, make predictions for the test set and evaluate the performance (e.g., MSE or other metrics)."
   ]
  },
  {
   "cell_type": "code",
   "execution_count": null,
   "metadata": {},
   "outputs": [],
   "source": []
  }
 ],
 "metadata": {
  "colab": {
   "collapsed_sections": [
    "fajTj7WydVkh",
    "RnPQCYcn4Bbq"
   ],
   "name": "Assignment#2_v2.ipynb",
   "provenance": []
  },
  "kernelspec": {
   "display_name": "Python 3 (ipykernel)",
   "language": "python",
   "name": "python3"
  },
  "language_info": {
   "codemirror_mode": {
    "name": "ipython",
    "version": 3
   },
   "file_extension": ".py",
   "mimetype": "text/x-python",
   "name": "python",
   "nbconvert_exporter": "python",
   "pygments_lexer": "ipython3",
   "version": "3.9.7"
  }
 },
 "nbformat": 4,
 "nbformat_minor": 1
}
