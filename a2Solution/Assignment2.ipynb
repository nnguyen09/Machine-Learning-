{
  "cells": [
    {
      "cell_type": "markdown",
      "metadata": {
        "id": "xolLBPJ6b127"
      },
      "source": [
        "Complete each problem below and print to pdf. Submit the pdf.\n",
        "\n",
        "You will need to work with the three datasets attached to this assignment:\n",
        "\n",
        "*   poverty.csv\n",
        "*   poverty_2.csv\n",
        "*   real_estate.csv"
      ]
    },
    {
      "cell_type": "markdown",
      "metadata": {
        "id": "fajTj7WydVkh"
      },
      "source": [
        "# Problem 1: Univariate Linear Regression"
      ]
    },
    {
      "cell_type": "markdown",
      "metadata": {
        "id": "qY3WWLxLduC_"
      },
      "source": [
        "## 1) import the libraries you will need:\n",
        "numpy \n",
        "pandas\n",
        "matplotlab.pyplot\n",
        "statsmodels.api"
      ]
    },
    {
      "cell_type": "code",
      "source": [
        "import numpy as np\n",
        "import pandas as pd\n",
        "import matplotlib.pyplot as plt\n",
        "import statsmodels.api as sm\n",
        "from google.colab import files\n",
        "\n",
        "\n"
      ],
      "metadata": {
        "id": "dDVeKs9lFDls",
        "colab": {
          "base_uri": "https://localhost:8080/"
        },
        "outputId": "6df5a6a6-cfa4-4201-abae-9c35605672ae"
      },
      "execution_count": 2,
      "outputs": [
        {
          "output_type": "stream",
          "name": "stderr",
          "text": [
            "/usr/local/lib/python3.7/dist-packages/statsmodels/tools/_testing.py:19: FutureWarning: pandas.util.testing is deprecated. Use the functions in the public API at pandas.testing instead.\n",
            "  import pandas.util.testing as tm\n"
          ]
        }
      ]
    },
    {
      "cell_type": "markdown",
      "metadata": {
        "id": "GES3Diiod-VB"
      },
      "source": [
        "## 2) Import the date poverty.csv dataset "
      ]
    },
    {
      "cell_type": "code",
      "source": [
        "\n",
        "url = 'https://raw.githubusercontent.com/nnguyen09/Machine-Learning-/master/assignment2/poverty.csv'\n",
        "df = pd.read_csv(url)\n",
        "df.head()\n"
      ],
      "metadata": {
        "colab": {
          "base_uri": "https://localhost:8080/",
          "height": 206
        },
        "id": "u7CL6lKuLnFe",
        "outputId": "dde15e96-9a22-449b-cb66-b53795915ae1"
      },
      "execution_count": 3,
      "outputs": [
        {
          "output_type": "execute_result",
          "data": {
            "text/html": [
              "\n",
              "  <div id=\"df-387f231e-eb7e-42dc-9b24-9cc03dc3e5da\">\n",
              "    <div class=\"colab-df-container\">\n",
              "      <div>\n",
              "<style scoped>\n",
              "    .dataframe tbody tr th:only-of-type {\n",
              "        vertical-align: middle;\n",
              "    }\n",
              "\n",
              "    .dataframe tbody tr th {\n",
              "        vertical-align: top;\n",
              "    }\n",
              "\n",
              "    .dataframe thead th {\n",
              "        text-align: right;\n",
              "    }\n",
              "</style>\n",
              "<table border=\"1\" class=\"dataframe\">\n",
              "  <thead>\n",
              "    <tr style=\"text-align: right;\">\n",
              "      <th></th>\n",
              "      <th>Location</th>\n",
              "      <th>PovPct</th>\n",
              "      <th>Brth15to17</th>\n",
              "      <th>Brth18to19</th>\n",
              "      <th>ViolCrime</th>\n",
              "      <th>TeenBrth</th>\n",
              "    </tr>\n",
              "  </thead>\n",
              "  <tbody>\n",
              "    <tr>\n",
              "      <th>0</th>\n",
              "      <td>Alabama</td>\n",
              "      <td>20.1</td>\n",
              "      <td>31.5</td>\n",
              "      <td>88.7</td>\n",
              "      <td>11.2</td>\n",
              "      <td>54.5</td>\n",
              "    </tr>\n",
              "    <tr>\n",
              "      <th>1</th>\n",
              "      <td>Alaska</td>\n",
              "      <td>7.1</td>\n",
              "      <td>18.9</td>\n",
              "      <td>73.7</td>\n",
              "      <td>9.1</td>\n",
              "      <td>39.5</td>\n",
              "    </tr>\n",
              "    <tr>\n",
              "      <th>2</th>\n",
              "      <td>Arizona</td>\n",
              "      <td>16.1</td>\n",
              "      <td>35.0</td>\n",
              "      <td>102.5</td>\n",
              "      <td>10.4</td>\n",
              "      <td>61.2</td>\n",
              "    </tr>\n",
              "    <tr>\n",
              "      <th>3</th>\n",
              "      <td>Arkansas</td>\n",
              "      <td>14.9</td>\n",
              "      <td>31.6</td>\n",
              "      <td>101.7</td>\n",
              "      <td>10.4</td>\n",
              "      <td>59.9</td>\n",
              "    </tr>\n",
              "    <tr>\n",
              "      <th>4</th>\n",
              "      <td>California</td>\n",
              "      <td>16.7</td>\n",
              "      <td>22.6</td>\n",
              "      <td>69.1</td>\n",
              "      <td>11.2</td>\n",
              "      <td>41.1</td>\n",
              "    </tr>\n",
              "  </tbody>\n",
              "</table>\n",
              "</div>\n",
              "      <button class=\"colab-df-convert\" onclick=\"convertToInteractive('df-387f231e-eb7e-42dc-9b24-9cc03dc3e5da')\"\n",
              "              title=\"Convert this dataframe to an interactive table.\"\n",
              "              style=\"display:none;\">\n",
              "        \n",
              "  <svg xmlns=\"http://www.w3.org/2000/svg\" height=\"24px\"viewBox=\"0 0 24 24\"\n",
              "       width=\"24px\">\n",
              "    <path d=\"M0 0h24v24H0V0z\" fill=\"none\"/>\n",
              "    <path d=\"M18.56 5.44l.94 2.06.94-2.06 2.06-.94-2.06-.94-.94-2.06-.94 2.06-2.06.94zm-11 1L8.5 8.5l.94-2.06 2.06-.94-2.06-.94L8.5 2.5l-.94 2.06-2.06.94zm10 10l.94 2.06.94-2.06 2.06-.94-2.06-.94-.94-2.06-.94 2.06-2.06.94z\"/><path d=\"M17.41 7.96l-1.37-1.37c-.4-.4-.92-.59-1.43-.59-.52 0-1.04.2-1.43.59L10.3 9.45l-7.72 7.72c-.78.78-.78 2.05 0 2.83L4 21.41c.39.39.9.59 1.41.59.51 0 1.02-.2 1.41-.59l7.78-7.78 2.81-2.81c.8-.78.8-2.07 0-2.86zM5.41 20L4 18.59l7.72-7.72 1.47 1.35L5.41 20z\"/>\n",
              "  </svg>\n",
              "      </button>\n",
              "      \n",
              "  <style>\n",
              "    .colab-df-container {\n",
              "      display:flex;\n",
              "      flex-wrap:wrap;\n",
              "      gap: 12px;\n",
              "    }\n",
              "\n",
              "    .colab-df-convert {\n",
              "      background-color: #E8F0FE;\n",
              "      border: none;\n",
              "      border-radius: 50%;\n",
              "      cursor: pointer;\n",
              "      display: none;\n",
              "      fill: #1967D2;\n",
              "      height: 32px;\n",
              "      padding: 0 0 0 0;\n",
              "      width: 32px;\n",
              "    }\n",
              "\n",
              "    .colab-df-convert:hover {\n",
              "      background-color: #E2EBFA;\n",
              "      box-shadow: 0px 1px 2px rgba(60, 64, 67, 0.3), 0px 1px 3px 1px rgba(60, 64, 67, 0.15);\n",
              "      fill: #174EA6;\n",
              "    }\n",
              "\n",
              "    [theme=dark] .colab-df-convert {\n",
              "      background-color: #3B4455;\n",
              "      fill: #D2E3FC;\n",
              "    }\n",
              "\n",
              "    [theme=dark] .colab-df-convert:hover {\n",
              "      background-color: #434B5C;\n",
              "      box-shadow: 0px 1px 3px 1px rgba(0, 0, 0, 0.15);\n",
              "      filter: drop-shadow(0px 1px 2px rgba(0, 0, 0, 0.3));\n",
              "      fill: #FFFFFF;\n",
              "    }\n",
              "  </style>\n",
              "\n",
              "      <script>\n",
              "        const buttonEl =\n",
              "          document.querySelector('#df-387f231e-eb7e-42dc-9b24-9cc03dc3e5da button.colab-df-convert');\n",
              "        buttonEl.style.display =\n",
              "          google.colab.kernel.accessAllowed ? 'block' : 'none';\n",
              "\n",
              "        async function convertToInteractive(key) {\n",
              "          const element = document.querySelector('#df-387f231e-eb7e-42dc-9b24-9cc03dc3e5da');\n",
              "          const dataTable =\n",
              "            await google.colab.kernel.invokeFunction('convertToInteractive',\n",
              "                                                     [key], {});\n",
              "          if (!dataTable) return;\n",
              "\n",
              "          const docLinkHtml = 'Like what you see? Visit the ' +\n",
              "            '<a target=\"_blank\" href=https://colab.research.google.com/notebooks/data_table.ipynb>data table notebook</a>'\n",
              "            + ' to learn more about interactive tables.';\n",
              "          element.innerHTML = '';\n",
              "          dataTable['output_type'] = 'display_data';\n",
              "          await google.colab.output.renderOutput(dataTable, element);\n",
              "          const docLink = document.createElement('div');\n",
              "          docLink.innerHTML = docLinkHtml;\n",
              "          element.appendChild(docLink);\n",
              "        }\n",
              "      </script>\n",
              "    </div>\n",
              "  </div>\n",
              "  "
            ],
            "text/plain": [
              "     Location  PovPct  Brth15to17  Brth18to19  ViolCrime  TeenBrth\n",
              "0     Alabama    20.1        31.5        88.7       11.2      54.5\n",
              "1      Alaska     7.1        18.9        73.7        9.1      39.5\n",
              "2     Arizona    16.1        35.0       102.5       10.4      61.2\n",
              "3    Arkansas    14.9        31.6       101.7       10.4      59.9\n",
              "4  California    16.7        22.6        69.1       11.2      41.1"
            ]
          },
          "metadata": {},
          "execution_count": 3
        }
      ]
    },
    {
      "cell_type": "markdown",
      "metadata": {
        "id": "Iil6FA2Fd_60"
      },
      "source": [
        "## 3) Print the dataset indexed upon the location column."
      ]
    },
    {
      "cell_type": "code",
      "source": [
        "df['Location']"
      ],
      "metadata": {
        "colab": {
          "base_uri": "https://localhost:8080/"
        },
        "id": "6GP19h3yPXnr",
        "outputId": "1074f01a-fe20-4bc3-8d40-f30093b71955"
      },
      "execution_count": 4,
      "outputs": [
        {
          "output_type": "execute_result",
          "data": {
            "text/plain": [
              "0                  Alabama\n",
              "1                   Alaska\n",
              "2                  Arizona\n",
              "3                 Arkansas\n",
              "4               California\n",
              "5                 Colorado\n",
              "6              Connecticut\n",
              "7                 Delaware\n",
              "8     District_of_Columbia\n",
              "9                  Florida\n",
              "10                 Georgia\n",
              "11                  Hawaii\n",
              "12                   Idaho\n",
              "13                Illinois\n",
              "14                 Indiana\n",
              "15                    Iowa\n",
              "16                  Kansas\n",
              "17                Kentucky\n",
              "18               Louisiana\n",
              "19                   Maine\n",
              "20                Maryland\n",
              "21           Massachusetts\n",
              "22                Michigan\n",
              "23               Minnesota\n",
              "24             Mississippi\n",
              "25                Missouri\n",
              "26                 Montana\n",
              "27                Nebraska\n",
              "28                  Nevada\n",
              "29           New_Hampshire\n",
              "30              New_Jersey\n",
              "31              New_Mexico\n",
              "32                New_York\n",
              "33          North_Carolina\n",
              "34            North_Dakota\n",
              "35                    Ohio\n",
              "36                Oklahoma\n",
              "37                  Oregon\n",
              "38            Pennsylvania\n",
              "39            Rhode_Island\n",
              "40          South_Carolina\n",
              "41            South_Dakota\n",
              "42               Tennessee\n",
              "43                   Texas\n",
              "44                    Utah\n",
              "45                 Vermont\n",
              "46                Virginia\n",
              "47              Washington\n",
              "48           West_Virginia\n",
              "49               Wisconsin\n",
              "50                 Wyoming\n",
              "Name: Location, dtype: object"
            ]
          },
          "metadata": {},
          "execution_count": 4
        }
      ]
    },
    {
      "cell_type": "markdown",
      "metadata": {
        "id": "LbI0lor1eCey"
      },
      "source": [
        "## 4) Get useful descriptive statistial data on the dataset.\n",
        "Hint: this is a single line, data._____ "
      ]
    },
    {
      "cell_type": "code",
      "source": [
        "df.describe()"
      ],
      "metadata": {
        "colab": {
          "base_uri": "https://localhost:8080/",
          "height": 300
        },
        "id": "b7PVpMGKkFV3",
        "outputId": "4a1bfa23-722d-49c3-b0e8-28847011bc5c"
      },
      "execution_count": 5,
      "outputs": [
        {
          "output_type": "execute_result",
          "data": {
            "text/html": [
              "\n",
              "  <div id=\"df-cddcc03b-81a8-4f8d-bc7b-d3026449303a\">\n",
              "    <div class=\"colab-df-container\">\n",
              "      <div>\n",
              "<style scoped>\n",
              "    .dataframe tbody tr th:only-of-type {\n",
              "        vertical-align: middle;\n",
              "    }\n",
              "\n",
              "    .dataframe tbody tr th {\n",
              "        vertical-align: top;\n",
              "    }\n",
              "\n",
              "    .dataframe thead th {\n",
              "        text-align: right;\n",
              "    }\n",
              "</style>\n",
              "<table border=\"1\" class=\"dataframe\">\n",
              "  <thead>\n",
              "    <tr style=\"text-align: right;\">\n",
              "      <th></th>\n",
              "      <th>PovPct</th>\n",
              "      <th>Brth15to17</th>\n",
              "      <th>Brth18to19</th>\n",
              "      <th>ViolCrime</th>\n",
              "      <th>TeenBrth</th>\n",
              "    </tr>\n",
              "  </thead>\n",
              "  <tbody>\n",
              "    <tr>\n",
              "      <th>count</th>\n",
              "      <td>51.000000</td>\n",
              "      <td>51.000000</td>\n",
              "      <td>51.000000</td>\n",
              "      <td>51.000000</td>\n",
              "      <td>51.000000</td>\n",
              "    </tr>\n",
              "    <tr>\n",
              "      <th>mean</th>\n",
              "      <td>13.117647</td>\n",
              "      <td>22.282353</td>\n",
              "      <td>72.019608</td>\n",
              "      <td>7.854902</td>\n",
              "      <td>42.243137</td>\n",
              "    </tr>\n",
              "    <tr>\n",
              "      <th>std</th>\n",
              "      <td>4.277228</td>\n",
              "      <td>8.043499</td>\n",
              "      <td>18.975563</td>\n",
              "      <td>8.914131</td>\n",
              "      <td>12.318511</td>\n",
              "    </tr>\n",
              "    <tr>\n",
              "      <th>min</th>\n",
              "      <td>5.300000</td>\n",
              "      <td>8.100000</td>\n",
              "      <td>39.000000</td>\n",
              "      <td>0.900000</td>\n",
              "      <td>20.000000</td>\n",
              "    </tr>\n",
              "    <tr>\n",
              "      <th>25%</th>\n",
              "      <td>10.250000</td>\n",
              "      <td>17.250000</td>\n",
              "      <td>58.300000</td>\n",
              "      <td>3.900000</td>\n",
              "      <td>33.900000</td>\n",
              "    </tr>\n",
              "    <tr>\n",
              "      <th>50%</th>\n",
              "      <td>12.200000</td>\n",
              "      <td>20.000000</td>\n",
              "      <td>69.400000</td>\n",
              "      <td>6.300000</td>\n",
              "      <td>39.500000</td>\n",
              "    </tr>\n",
              "    <tr>\n",
              "      <th>75%</th>\n",
              "      <td>15.800000</td>\n",
              "      <td>28.100000</td>\n",
              "      <td>87.950000</td>\n",
              "      <td>9.450000</td>\n",
              "      <td>52.600000</td>\n",
              "    </tr>\n",
              "    <tr>\n",
              "      <th>max</th>\n",
              "      <td>25.300000</td>\n",
              "      <td>44.800000</td>\n",
              "      <td>104.300000</td>\n",
              "      <td>65.000000</td>\n",
              "      <td>69.100000</td>\n",
              "    </tr>\n",
              "  </tbody>\n",
              "</table>\n",
              "</div>\n",
              "      <button class=\"colab-df-convert\" onclick=\"convertToInteractive('df-cddcc03b-81a8-4f8d-bc7b-d3026449303a')\"\n",
              "              title=\"Convert this dataframe to an interactive table.\"\n",
              "              style=\"display:none;\">\n",
              "        \n",
              "  <svg xmlns=\"http://www.w3.org/2000/svg\" height=\"24px\"viewBox=\"0 0 24 24\"\n",
              "       width=\"24px\">\n",
              "    <path d=\"M0 0h24v24H0V0z\" fill=\"none\"/>\n",
              "    <path d=\"M18.56 5.44l.94 2.06.94-2.06 2.06-.94-2.06-.94-.94-2.06-.94 2.06-2.06.94zm-11 1L8.5 8.5l.94-2.06 2.06-.94-2.06-.94L8.5 2.5l-.94 2.06-2.06.94zm10 10l.94 2.06.94-2.06 2.06-.94-2.06-.94-.94-2.06-.94 2.06-2.06.94z\"/><path d=\"M17.41 7.96l-1.37-1.37c-.4-.4-.92-.59-1.43-.59-.52 0-1.04.2-1.43.59L10.3 9.45l-7.72 7.72c-.78.78-.78 2.05 0 2.83L4 21.41c.39.39.9.59 1.41.59.51 0 1.02-.2 1.41-.59l7.78-7.78 2.81-2.81c.8-.78.8-2.07 0-2.86zM5.41 20L4 18.59l7.72-7.72 1.47 1.35L5.41 20z\"/>\n",
              "  </svg>\n",
              "      </button>\n",
              "      \n",
              "  <style>\n",
              "    .colab-df-container {\n",
              "      display:flex;\n",
              "      flex-wrap:wrap;\n",
              "      gap: 12px;\n",
              "    }\n",
              "\n",
              "    .colab-df-convert {\n",
              "      background-color: #E8F0FE;\n",
              "      border: none;\n",
              "      border-radius: 50%;\n",
              "      cursor: pointer;\n",
              "      display: none;\n",
              "      fill: #1967D2;\n",
              "      height: 32px;\n",
              "      padding: 0 0 0 0;\n",
              "      width: 32px;\n",
              "    }\n",
              "\n",
              "    .colab-df-convert:hover {\n",
              "      background-color: #E2EBFA;\n",
              "      box-shadow: 0px 1px 2px rgba(60, 64, 67, 0.3), 0px 1px 3px 1px rgba(60, 64, 67, 0.15);\n",
              "      fill: #174EA6;\n",
              "    }\n",
              "\n",
              "    [theme=dark] .colab-df-convert {\n",
              "      background-color: #3B4455;\n",
              "      fill: #D2E3FC;\n",
              "    }\n",
              "\n",
              "    [theme=dark] .colab-df-convert:hover {\n",
              "      background-color: #434B5C;\n",
              "      box-shadow: 0px 1px 3px 1px rgba(0, 0, 0, 0.15);\n",
              "      filter: drop-shadow(0px 1px 2px rgba(0, 0, 0, 0.3));\n",
              "      fill: #FFFFFF;\n",
              "    }\n",
              "  </style>\n",
              "\n",
              "      <script>\n",
              "        const buttonEl =\n",
              "          document.querySelector('#df-cddcc03b-81a8-4f8d-bc7b-d3026449303a button.colab-df-convert');\n",
              "        buttonEl.style.display =\n",
              "          google.colab.kernel.accessAllowed ? 'block' : 'none';\n",
              "\n",
              "        async function convertToInteractive(key) {\n",
              "          const element = document.querySelector('#df-cddcc03b-81a8-4f8d-bc7b-d3026449303a');\n",
              "          const dataTable =\n",
              "            await google.colab.kernel.invokeFunction('convertToInteractive',\n",
              "                                                     [key], {});\n",
              "          if (!dataTable) return;\n",
              "\n",
              "          const docLinkHtml = 'Like what you see? Visit the ' +\n",
              "            '<a target=\"_blank\" href=https://colab.research.google.com/notebooks/data_table.ipynb>data table notebook</a>'\n",
              "            + ' to learn more about interactive tables.';\n",
              "          element.innerHTML = '';\n",
              "          dataTable['output_type'] = 'display_data';\n",
              "          await google.colab.output.renderOutput(dataTable, element);\n",
              "          const docLink = document.createElement('div');\n",
              "          docLink.innerHTML = docLinkHtml;\n",
              "          element.appendChild(docLink);\n",
              "        }\n",
              "      </script>\n",
              "    </div>\n",
              "  </div>\n",
              "  "
            ],
            "text/plain": [
              "          PovPct  Brth15to17  Brth18to19  ViolCrime   TeenBrth\n",
              "count  51.000000   51.000000   51.000000  51.000000  51.000000\n",
              "mean   13.117647   22.282353   72.019608   7.854902  42.243137\n",
              "std     4.277228    8.043499   18.975563   8.914131  12.318511\n",
              "min     5.300000    8.100000   39.000000   0.900000  20.000000\n",
              "25%    10.250000   17.250000   58.300000   3.900000  33.900000\n",
              "50%    12.200000   20.000000   69.400000   6.300000  39.500000\n",
              "75%    15.800000   28.100000   87.950000   9.450000  52.600000\n",
              "max    25.300000   44.800000  104.300000  65.000000  69.100000"
            ]
          },
          "metadata": {},
          "execution_count": 5
        }
      ]
    },
    {
      "cell_type": "markdown",
      "metadata": {
        "id": "WIwY_FKS0MQZ"
      },
      "source": [
        "##5) Print the columns"
      ]
    },
    {
      "cell_type": "code",
      "source": [
        "df.columns"
      ],
      "metadata": {
        "colab": {
          "base_uri": "https://localhost:8080/"
        },
        "id": "11cNfG_0lZNn",
        "outputId": "fed085aa-7fa9-46c3-a19c-d9dce6eb8d49"
      },
      "execution_count": 6,
      "outputs": [
        {
          "output_type": "execute_result",
          "data": {
            "text/plain": [
              "Index(['Location', 'PovPct', 'Brth15to17', 'Brth18to19', 'ViolCrime',\n",
              "       'TeenBrth'],\n",
              "      dtype='object')"
            ]
          },
          "metadata": {},
          "execution_count": 6
        }
      ]
    },
    {
      "cell_type": "markdown",
      "metadata": {
        "id": "mh1LJDq4eD-0"
      },
      "source": [
        "## 6) Create a regression line based upon the dependent and independent variables:\n",
        "PovPct \n",
        "Brth18to19\n",
        "\n",
        "In this step only create a scatterplot of the two variables, simply plotting the data.\n",
        "\n",
        "Note: The variable PovPct is the percent of a state’s population in 2000 living in households with incomes below the federally defined poverty level. "
      ]
    },
    {
      "cell_type": "code",
      "source": [
        "y=df['PovPct']\n",
        "x=df['Brth18to19']\n",
        "plt.ylabel(\"$PovPct$\", fontsize = 18)\n",
        "plt.xlabel(\"$Brth18to19$\", fontsize = 18)\n",
        "plt.scatter(x, y)\n"
      ],
      "metadata": {
        "colab": {
          "base_uri": "https://localhost:8080/",
          "height": 305
        },
        "id": "7rnXaNs5lrIJ",
        "outputId": "33588883-aa4f-4e45-c0b3-9486d38b6f2a"
      },
      "execution_count": 64,
      "outputs": [
        {
          "output_type": "execute_result",
          "data": {
            "text/plain": [
              "<matplotlib.collections.PathCollection at 0x7f61d3e8a3d0>"
            ]
          },
          "metadata": {},
          "execution_count": 64
        },
        {
          "output_type": "display_data",
          "data": {
            "image/png": "[encoded data removed]",
            "text/plain": [
              "<Figure size 432x288 with 1 Axes>"
            ]
          },
          "metadata": {
            "needs_background": "light"
          }
        }
      ]
    },
    {
      "cell_type": "markdown",
      "metadata": {
        "id": "ToC_9hnc3mkd"
      },
      "source": [
        "## 7) Lets create a new variable, x1, as well as the results variable:\n",
        "Example would be\n",
        "1.   x1 = sm.add_constant(x)\n",
        "2.   results = sm.OLS(y, x1).fit()\n",
        "3.   results.summary()\n",
        "\n",
        "This gives you the OLS Regression results, the coefficients table, and some additional tests. The data that you are interested in is the coefficient values. This is the value for the constant you created is b0, and birth19to19 is b1 in the regression equation.\n"
      ]
    },
    {
      "cell_type": "code",
      "source": [
        "x1 = sm.add_constant(x)\n",
        "result = sm.OLS(y,x1).fit()\n",
        "print(result.summary())\n"
      ],
      "metadata": {
        "colab": {
          "base_uri": "https://localhost:8080/"
        },
        "id": "jLCZ46Cxmw58",
        "outputId": "d17c115a-73c6-4c0b-86f5-c7f2a7bd8a64"
      },
      "execution_count": 73,
      "outputs": [
        {
          "output_type": "stream",
          "name": "stdout",
          "text": [
            "                            OLS Regression Results                            \n",
            "==============================================================================\n",
            "Dep. Variable:                 PovPct   R-squared:                       0.422\n",
            "Model:                            OLS   Adj. R-squared:                  0.410\n",
            "Method:                 Least Squares   F-statistic:                     35.78\n",
            "Date:                Sat, 19 Feb 2022   Prob (F-statistic):           2.50e-07\n",
            "Time:                        04:06:59   Log-Likelihood:                -132.00\n",
            "No. Observations:                  51   AIC:                             268.0\n",
            "Df Residuals:                      49   BIC:                             271.9\n",
            "Df Model:                           1                                         \n",
            "Covariance Type:            nonrobust                                         \n",
            "==============================================================================\n",
            "                 coef    std err          t      P>|t|      [0.025      0.975]\n",
            "------------------------------------------------------------------------------\n",
            "const          2.5712      1.822      1.411      0.165      -1.090       6.233\n",
            "Brth18to19     0.1464      0.024      5.982      0.000       0.097       0.196\n",
            "==============================================================================\n",
            "Omnibus:                        0.886   Durbin-Watson:                   2.265\n",
            "Prob(Omnibus):                  0.642   Jarque-Bera (JB):                0.944\n",
            "Skew:                           0.283   Prob(JB):                        0.624\n",
            "Kurtosis:                       2.647   Cond. No.                         295.\n",
            "==============================================================================\n",
            "\n",
            "Warnings:\n",
            "[1] Standard Errors assume that the covariance matrix of the errors is correctly specified.\n"
          ]
        },
        {
          "output_type": "stream",
          "name": "stderr",
          "text": [
            "/usr/local/lib/python3.7/dist-packages/statsmodels/tsa/tsatools.py:117: FutureWarning: In a future version of pandas all arguments of concat except for the argument 'objs' will be keyword-only\n",
            "  x = pd.concat(x[::order], 1)\n"
          ]
        }
      ]
    },
    {
      "cell_type": "markdown",
      "metadata": {
        "id": "fVJyXsLO4UAD"
      },
      "source": [
        "## 8) Taking the coeffient values for the new constant and the Y variable, create a scatterplot:\n",
        "\n",
        "e.g. \n",
        "yhat = 0.1464*x + 0.25712\n",
        "fig = plt.plot(x, yhat, lw=4, c='red', label = 'regression line')"
      ]
    },
    {
      "cell_type": "code",
      "source": [
        "yhat = 0.1464*x + 2.5712\n",
        "plt.ylabel(\"$PovPct$\", fontsize = 18)\n",
        "plt.xlabel(\"$Brth18to19$\", fontsize = 18)\n",
        "plt.scatter(x, y)\n",
        "fig = plt.plot(x, yhat,lw=4, c= 'red',label = 'regression line')\n",
        "plt.legend(loc='upper left')"
      ],
      "metadata": {
        "colab": {
          "base_uri": "https://localhost:8080/",
          "height": 305
        },
        "id": "8dt9zE7gudzP",
        "outputId": "c30e97de-be94-4c7e-8754-d19cfaa365e7"
      },
      "execution_count": 74,
      "outputs": [
        {
          "output_type": "execute_result",
          "data": {
            "text/plain": [
              "<matplotlib.legend.Legend at 0x7f61d1806e10>"
            ]
          },
          "metadata": {},
          "execution_count": 74
        },
        {
          "output_type": "display_data",
          "data": {
            "image/png": "[encoded data removed]",
            "text/plain": [
              "<Figure size 432x288 with 1 Axes>"
            ]
          },
          "metadata": {
            "needs_background": "light"
          }
        }
      ]
    },
    {
      "cell_type": "markdown",
      "metadata": {
        "id": "RnPQCYcn4Bbq"
      },
      "source": [
        "# Problem 2: Implement code from lecture"
      ]
    },
    {
      "cell_type": "markdown",
      "metadata": {
        "id": "nBbYAVMj4HaL"
      },
      "source": [
        "## 1) Perform linear regression using the normal equation, as done in slides."
      ]
    },
    {
      "cell_type": "code",
      "source": [
        "\n",
        "\n",
        "plt.ylabel(\"$PovPct$\", fontsize = 18)\n",
        "plt.xlabel(\"$Brth18to19$\", fontsize = 18)\n",
        "plt.scatter(x,y)\n",
        "X_b = np.c_[np.ones((x.size,1)),x] #add x0 = 1 to each instance\n",
        "theta_best = np.linalg.inv(X_b.T.dot(X_b)).dot(X_b.T).dot(y)\n",
        "theta_best\n",
        "X_new= np.array([[40],[100]])\n",
        "X_new_b = np.c_[np.ones((2,1)), X_new] #add x0 = 1 to each instance\n",
        "y_predict = X_new_b.dot(theta_best)\n",
        "y_predict\n",
        "plt.plot(X_new, y_predict, c=\"red\", label = \"Prediction\")\n",
        "plt.legend(loc = \"upper left\")"
      ],
      "metadata": {
        "colab": {
          "base_uri": "https://localhost:8080/",
          "height": 305
        },
        "id": "5gafDscRwGvi",
        "outputId": "7e32195c-399e-4315-f296-31dc2fe4a6f1"
      },
      "execution_count": 75,
      "outputs": [
        {
          "output_type": "execute_result",
          "data": {
            "text/plain": [
              "<matplotlib.legend.Legend at 0x7f61d1761b10>"
            ]
          },
          "metadata": {},
          "execution_count": 75
        },
        {
          "output_type": "display_data",
          "data": {
            "image/png": "[encoded data removed]",
            "text/plain": [
              "<Figure size 432x288 with 1 Axes>"
            ]
          },
          "metadata": {
            "needs_background": "light"
          }
        }
      ]
    },
    {
      "cell_type": "markdown",
      "metadata": {
        "id": "56VkD2C04SaF"
      },
      "source": [
        "## 2) Perform linear regression using Scikit-Learn, as done in the slides."
      ]
    },
    {
      "cell_type": "code",
      "source": [
        "from sklearn.linear_model import LinearRegression\n",
        "plt.scatter(x,y)\n",
        "x_new = np.c_[x]\n",
        "y_new = np.c_[y]\n",
        "\n",
        "lin_reg = LinearRegression()\n",
        "lin_reg.fit(x_new,y_new) \n",
        "lin_reg.intercept_, lin_reg.coef_\n",
        "\n",
        "plt.plot(x_new, lin_reg.coef_*x_new + lin_reg.intercept_, c='red', label='Prediction')\n",
        "plt.legend(loc = 'upper left')\n"
      ],
      "metadata": {
        "colab": {
          "base_uri": "https://localhost:8080/",
          "height": 283
        },
        "id": "zBEq7eb20OcQ",
        "outputId": "a5cfa62f-8d5c-4a2c-9fcd-7df9a852d814"
      },
      "execution_count": 68,
      "outputs": [
        {
          "output_type": "execute_result",
          "data": {
            "text/plain": [
              "<matplotlib.legend.Legend at 0x7f61d3d8f090>"
            ]
          },
          "metadata": {},
          "execution_count": 68
        },
        {
          "output_type": "display_data",
          "data": {
            "image/png": "[encoded data removed]",
            "text/plain": [
              "<Figure size 432x288 with 1 Axes>"
            ]
          },
          "metadata": {
            "needs_background": "light"
          }
        }
      ]
    },
    {
      "cell_type": "markdown",
      "metadata": {
        "id": "zPQRoKB__648"
      },
      "source": [
        "# Problem 3: Multivariate Linear Regression\n",
        "In this problem we will continue using the poverty dataset. Do poverty and violent crimes affect teen pregnancy?"
      ]
    },
    {
      "cell_type": "markdown",
      "metadata": {
        "id": "YSI7RrmC_H7N"
      },
      "source": [
        "## 1) import the libraries you will need:\n",
        "numpy \n",
        "pandas\n",
        "matplotlab.pyplot\n",
        "statsmodels.api"
      ]
    },
    {
      "cell_type": "code",
      "execution_count": 76,
      "metadata": {
        "id": "tx5Ru5TY_H7S"
      },
      "outputs": [],
      "source": [
        "import numpy as np\n",
        "import pandas as pd\n",
        "from sklearn.preprocessing import normalize"
      ]
    },
    {
      "cell_type": "markdown",
      "metadata": {
        "id": "TaWWSisg_649"
      },
      "source": [
        "\n",
        "## 2) Import the dataset, poverty_2.csv, and print it.\n"
      ]
    },
    {
      "cell_type": "code",
      "source": [
        "url_2 = 'https://raw.githubusercontent.com/nnguyen09/Machine-Learning-/master/assignment2/poverty_2.csv'\n",
        "data= pd.read_csv(url_2)\n",
        "print(data)"
      ],
      "metadata": {
        "colab": {
          "base_uri": "https://localhost:8080/"
        },
        "id": "vOhC356uKEjB",
        "outputId": "5c09f159-76f9-4145-8922-d48575ab0d7d"
      },
      "execution_count": 77,
      "outputs": [
        {
          "output_type": "stream",
          "name": "stdout",
          "text": [
            "    PovPct  ViolCrime  TeenBrth\n",
            "0     20.1       11.2      54.5\n",
            "1      7.1        9.1      39.5\n",
            "2     16.1       10.4      61.2\n",
            "3     14.9       10.4      59.9\n",
            "4     16.7       11.2      41.1\n",
            "5      8.8        5.8      47.0\n",
            "6      9.7        4.6      25.8\n",
            "7     10.3        3.5      46.3\n",
            "8     22.0       65.0      69.1\n",
            "9     16.2        7.3      44.5\n",
            "10    12.1        9.5      55.7\n",
            "11    10.3        4.7      38.2\n",
            "12    14.5        4.1      39.1\n",
            "13    12.4       10.3      42.2\n",
            "14     9.6        8.0      44.6\n",
            "15    12.2        1.8      32.5\n",
            "16    10.8        6.2      43.0\n",
            "17    14.7        7.2      51.0\n",
            "18    19.7       17.0      58.1\n",
            "19    11.2        2.0      25.4\n",
            "20    10.1       11.8      35.4\n",
            "21    11.0        3.6      23.3\n",
            "22    12.2        8.5      34.8\n",
            "23     9.2        3.9      27.5\n",
            "24    23.5       12.9      64.7\n",
            "25     9.4        8.8      44.1\n",
            "26    15.3        3.0      36.4\n",
            "27     9.6        2.9      37.0\n",
            "28    11.1       10.7      53.9\n",
            "29     5.3        1.8      20.0\n",
            "30     7.8        5.1      26.8\n",
            "31    25.3        8.8      62.4\n",
            "32    16.5        8.5      29.5\n",
            "33    12.6        9.4      52.2\n",
            "34    12.0        0.9      27.2\n",
            "35    11.5        5.4      39.5\n",
            "36    17.1       12.2      58.0\n",
            "37    11.2        4.1      36.8\n",
            "38    12.2        6.3      31.6\n",
            "39    10.6        3.3      35.6\n",
            "40    19.9        7.9      53.0\n",
            "41    14.5        1.8      38.0\n",
            "42    15.5       10.6      54.3\n",
            "43    17.4        9.0      64.4\n",
            "44     8.4        3.9      36.8\n",
            "45    10.3        2.2      24.2\n",
            "46    10.2        7.6      37.6\n",
            "47    12.5        5.1      33.0\n",
            "48    16.7        4.9      45.5\n",
            "49     8.5        4.3      32.3\n",
            "50    12.2        2.1      39.9\n"
          ]
        }
      ]
    },
    {
      "cell_type": "markdown",
      "metadata": {
        "id": "3Zf-n8sbeHHL"
      },
      "source": [
        "## 3) We need to normalize the input variables."
      ]
    },
    {
      "cell_type": "code",
      "execution_count": 78,
      "metadata": {
        "id": "hO0d_GoUlC3t"
      },
      "outputs": [],
      "source": [
        "from sklearn.preprocessing import normalize\n",
        "data = normalize(data, axis=0)"
      ]
    },
    {
      "cell_type": "markdown",
      "metadata": {
        "id": "-S46a6gpeHHL"
      },
      "source": [
        "## 4) Split the data into input variables, X, and the output variable, Y."
      ]
    },
    {
      "cell_type": "code",
      "source": [
        "X=data[:,0:2]\n",
        "Y=data[:,2:]"
      ],
      "metadata": {
        "id": "K_zfcmZAfvzR"
      },
      "execution_count": 79,
      "outputs": []
    },
    {
      "cell_type": "markdown",
      "metadata": {
        "id": "DkF0OabICS20"
      },
      "source": [
        "## 5) Graph the dataset with a seed of 42.\n",
        "Replace the FILLINTHESEVALUES fields."
      ]
    },
    {
      "cell_type": "code",
      "execution_count": 80,
      "metadata": {
        "colab": {
          "base_uri": "https://localhost:8080/",
          "height": 248
        },
        "id": "9eJ7bw4ycZib",
        "outputId": "cfe3115f-74d8-497f-db8e-cddeafa37022"
      },
      "outputs": [
        {
          "output_type": "display_data",
          "data": {
            "image/png": "[encoded data removed]",
            "text/plain": [
              "<Figure size 432x288 with 1 Axes>"
            ]
          },
          "metadata": {
            "needs_background": "light"
          }
        }
      ],
      "source": [
        "np.random.seed(42)\n",
        "\n",
        "fig = plt.figure()\n",
        "ax = fig.add_subplot(111, projection='3d')\n",
        "\n",
        "xs = 2*np.random.rand(100,1)\n",
        "ys = 2+3*xs+np.random.rand(100,1)\n",
        "zs = 4*xs+3*ys+np.random.rand(100,1)\n",
        "\n",
        "ax.scatter(xs, ys, zs)\n",
        "\n",
        "ax.set_xlabel('X')\n",
        "ax.set_ylabel('Y')\n",
        "ax.set_zlabel('Z')\n",
        "\n",
        "\n",
        "plt.show()"
      ]
    },
    {
      "cell_type": "markdown",
      "metadata": {
        "id": "Tve3fCf4Vkwp"
      },
      "source": [
        "## 6) Implement  Gradient Descent.\n",
        "This section has be provided. Please run and understand the code."
      ]
    },
    {
      "cell_type": "code",
      "execution_count": 81,
      "metadata": {
        "id": "5u9UlY8KVvE7"
      },
      "outputs": [],
      "source": [
        "# hyperparameters\n",
        "learning_rate = 0.05\n",
        "max_iteration = 500\n",
        "\n",
        "#parameters\n",
        "theta = np.zeros((data.shape[1], 1))"
      ]
    },
    {
      "cell_type": "code",
      "execution_count": 82,
      "metadata": {
        "id": "o2ec_B8VDjCu"
      },
      "outputs": [],
      "source": [
        "def hypothesis (theta, X) :\n",
        "  tempX = np.ones((X.shape[0], X.shape[1] + 1))\n",
        "  tempX[:,1:] = X\n",
        "  return np.matmul(tempX, theta)"
      ]
    },
    {
      "cell_type": "code",
      "execution_count": 83,
      "metadata": {
        "id": "lLP0RAS1PQQ4"
      },
      "outputs": [],
      "source": [
        "def loss (theta, X, Y) :\n",
        "  return np.average(np.square(Y - hypothesis(theta, X))) / 2"
      ]
    },
    {
      "cell_type": "code",
      "execution_count": 84,
      "metadata": {
        "id": "Nue2ZoX_DnrU"
      },
      "outputs": [],
      "source": [
        "def gradient (theta, X, Y) :\n",
        "  tempX = np.ones((X.shape[0], X.shape[1] + 1))\n",
        "  tempX[:,1:] = X\n",
        "  d_theta = - np.average((Y - hypothesis(theta, X)) * tempX, axis= 0)\n",
        "  d_theta = d_theta.reshape((d_theta.shape[0], 1))\n",
        "  return d_theta"
      ]
    },
    {
      "cell_type": "code",
      "execution_count": 85,
      "metadata": {
        "id": "dBeDemDvDrif"
      },
      "outputs": [],
      "source": [
        "def gradient_descent (theta, X, Y, learning_rate, max_iteration, gap) :\n",
        "  cost = np.zeros(max_iteration)\n",
        "  for i in range(max_iteration) :\n",
        "    d_theta = gradient (theta, X, Y)\n",
        "    theta = theta - learning_rate * d_theta\n",
        "    cost[i] = loss(theta, X, Y)\n",
        "    if i % gap == 0 :\n",
        "      print ('iteration : ', i, ' loss : ', loss(theta, X, Y)) \n",
        "  return theta, cost"
      ]
    },
    {
      "cell_type": "code",
      "execution_count": 86,
      "metadata": {
        "colab": {
          "base_uri": "https://localhost:8080/"
        },
        "id": "5ufuj_wODwQy",
        "outputId": "bdc3061d-53c1-4f39-ab33-1013c72d2a21"
      },
      "outputs": [
        {
          "output_type": "stream",
          "name": "stdout",
          "text": [
            "iteration :  0  loss :  0.008893757788504215\n",
            "iteration :  100  loss :  0.0006811106575134702\n",
            "iteration :  200  loss :  0.0006573219302696655\n",
            "iteration :  300  loss :  0.0006360731168287809\n",
            "iteration :  400  loss :  0.0006169026951758099\n"
          ]
        }
      ],
      "source": [
        "# Training model\n",
        "theta, cost = gradient_descent (theta, X, Y, learning_rate, max_iteration, 100)"
      ]
    },
    {
      "cell_type": "code",
      "execution_count": 87,
      "metadata": {
        "colab": {
          "base_uri": "https://localhost:8080/"
        },
        "id": "vvpjzEMhD1x8",
        "outputId": "2013f2d7-3b6d-416c-f7e7-498d0e1e540a"
      },
      "outputs": [
        {
          "output_type": "execute_result",
          "data": {
            "text/plain": [
              "array([[0.12381477],\n",
              "       [0.04264512],\n",
              "       [0.05698502]])"
            ]
          },
          "metadata": {},
          "execution_count": 87
        }
      ],
      "source": [
        "#optimal value is :\n",
        "theta"
      ]
    },
    {
      "cell_type": "code",
      "execution_count": 88,
      "metadata": {
        "colab": {
          "base_uri": "https://localhost:8080/",
          "height": 295
        },
        "id": "IU5vvSCtD6mR",
        "outputId": "41be386e-250a-4da4-d4a1-15831eba7750"
      },
      "outputs": [
        {
          "output_type": "display_data",
          "data": {
            "image/png": "[encoded data removed]",
            "text/plain": [
              "<Figure size 432x288 with 1 Axes>"
            ]
          },
          "metadata": {
            "needs_background": "light"
          }
        }
      ],
      "source": [
        "#plot cost\n",
        "fig, ax = plt.subplots()  \n",
        "ax.plot(np.arange(max_iteration), cost, 'r')  \n",
        "ax.legend(loc='upper right', labels=['batch gradient descent'])\n",
        "ax.set_xlabel('Iterations')  \n",
        "ax.set_ylabel('Cost')  \n",
        "ax.set_title('Error vs. Training Epoch')  \n",
        "\n",
        "plt.show()"
      ]
    },
    {
      "cell_type": "markdown",
      "metadata": {
        "id": "H6J6BrZ6EID4"
      },
      "source": [
        "## 7) Implement Stochastic Gradient Descent. Please run."
      ]
    },
    {
      "cell_type": "code",
      "execution_count": 90,
      "metadata": {
        "id": "tUZtoNtNEVU1"
      },
      "outputs": [],
      "source": [
        "def stochastic_gradient_descent (theta, X, Y, learning_rate, max_iteration, gap) :\n",
        "  cost = np.zeros(max_iteration)\n",
        "  for i in range(max_iteration) :\n",
        "    for j in range(X.shape[0]):\n",
        "      d_theta = gradient (theta, X[j,:].reshape(1, X.shape[1]), Y[j,:].reshape(1, 1))\n",
        "      theta = theta - learning_rate * d_theta\n",
        "    \n",
        "    cost[i] = loss(theta, X, Y)\n",
        "    if i % gap == 0 :\n",
        "      print ('iteration : ', i, ' loss : ', loss(theta, X, Y)) \n",
        "  return theta, cost"
      ]
    },
    {
      "cell_type": "code",
      "execution_count": 91,
      "metadata": {
        "id": "sCqvlEunEeN7"
      },
      "outputs": [],
      "source": [
        "theta_stoc = np.zeros((data.shape[1], 1))"
      ]
    },
    {
      "cell_type": "code",
      "execution_count": 92,
      "metadata": {
        "colab": {
          "base_uri": "https://localhost:8080/"
        },
        "id": "UkEj9jgJE59l",
        "outputId": "65dc5e36-e1c1-4403-c837-8c290268098c"
      },
      "outputs": [
        {
          "output_type": "stream",
          "name": "stdout",
          "text": [
            "iteration :  0  loss :  0.0007764556902156442\n",
            "iteration :  100  loss :  0.0004037848207345314\n",
            "iteration :  200  loss :  0.00036553095210465356\n",
            "iteration :  300  loss :  0.000347847758744226\n",
            "iteration :  400  loss :  0.00033956148785195\n"
          ]
        }
      ],
      "source": [
        "theta_stoc, cost_stoc = stochastic_gradient_descent (theta_stoc, X, Y, learning_rate, max_iteration, 100)"
      ]
    },
    {
      "cell_type": "code",
      "execution_count": 93,
      "metadata": {
        "colab": {
          "base_uri": "https://localhost:8080/",
          "height": 295
        },
        "id": "t1l_uNl7FSev",
        "outputId": "d5a338b4-b8d8-4e11-9235-2a0b0fd8a081"
      },
      "outputs": [
        {
          "output_type": "display_data",
          "data": {
            "image/png": "[encoded data removed]",
            "text/plain": [
              "<Figure size 432x288 with 1 Axes>"
            ]
          },
          "metadata": {
            "needs_background": "light"
          }
        }
      ],
      "source": [
        "#plot the cost\n",
        "fig, ax = plt.subplots()  \n",
        "ax.plot(np.arange(max_iteration), cost, 'r')  \n",
        "ax.plot(np.arange(max_iteration), cost_stoc, 'b')  \n",
        "#ax.plot(np.arange(max_iteration), mb_cost, 'g')  \n",
        "ax.legend(loc='upper right', labels=['batch gradient descent', 'stochastic gradient descent'])#, 'mini-batch gradient descent'])\n",
        "ax.set_xlabel('Iterations')  \n",
        "ax.set_ylabel('Cost')  \n",
        "ax.set_title('Error vs. Training Epoch')  \n",
        "\n",
        "plt.show()"
      ]
    },
    {
      "cell_type": "code",
      "execution_count": 94,
      "metadata": {
        "colab": {
          "base_uri": "https://localhost:8080/",
          "height": 248
        },
        "id": "zzfzq8IuIEDW",
        "outputId": "9fb35d3c-75db-4ff3-b64b-3318b6bdde58"
      },
      "outputs": [
        {
          "output_type": "display_data",
          "data": {
            "image/png": "[encoded data removed]",
            "text/plain": [
              "<Figure size 432x288 with 1 Axes>"
            ]
          },
          "metadata": {
            "needs_background": "light"
          }
        }
      ],
      "source": [
        "np.random.seed(42)\n",
        "\n",
        "fig = plt.figure()\n",
        "ax = fig.add_subplot(111, projection='3d')\n",
        "\n",
        "xs = X[:, 0]\n",
        "ys = X[:, 1]\n",
        "zs = Y\n",
        "ax.scatter(xs, ys, zs)\n",
        "\n",
        "ax.set_xlabel('PovPct')\n",
        "ax.set_ylabel('ViolCrime')\n",
        "ax.set_zlabel('TeenBrth')\n",
        "\n",
        "# new \n",
        "x = y = np.arange(0, 0.3, 0.05)\n",
        "xp, yp = np.meshgrid(x, y)\n",
        "z = np.array([hypothesis(theta, np.array([[x,y]]))[0, 0] for x,y in zip(np.ravel(xp), np.ravel(yp))])\n",
        "zp = z.reshape(xp.shape)\n",
        "\n",
        "ax.plot_surface(xp, yp, zp, alpha=0.7)\n",
        "\n",
        "plt.show()"
      ]
    },
    {
      "cell_type": "markdown",
      "metadata": {
        "id": "16472KMCdjHL"
      },
      "source": [
        "# Problem 4, predict house price.\n",
        "\n",
        "* import real_estate.csv \n",
        "* Are there any null values in the dataset? Drop any missing data if exist. \n",
        "* Create X as a 1-D array of the distance to the nearest MRT station, and y as the housing price\n",
        "* What is the number of samples in the data set? To do this, you can look at the \"shape\" of X and y\n",
        "* Split the data into train and test sets using sklearn's train_test_split, with test_size = 1/3\n",
        "* Find the line of best fit using a Linear Regression and show the result of coefficients and intercept (you can use sklearn's linear regression)\n",
        "* Using the predict method, make predictions for the test set and evaluate the performance (e.g., MSE or other metrics)."
      ]
    },
    {
      "cell_type": "code",
      "execution_count": 95,
      "metadata": {
        "colab": {
          "base_uri": "https://localhost:8080/"
        },
        "id": "CK4IMBD9E3a0",
        "outputId": "03585822-bcac-40d6-e0aa-d1988c9f840f"
      },
      "outputs": [
        {
          "output_type": "stream",
          "name": "stdout",
          "text": [
            "Index(['No', 'X1 transaction date', 'X2 house age',\n",
            "       'X3 distance to the nearest MRT station',\n",
            "       'X4 number of convenience stores', 'X5 latitude', 'X6 longitude',\n",
            "       'Y house price of unit area'],\n",
            "      dtype='object')\n",
            "<PandasArray>\n",
            "[84.87882, 306.5947, 561.9845, 561.9845, 390.5684,  2175.03, 623.4731,\n",
            " 287.6025, 5512.038,  1783.18,\n",
            " ...\n",
            " 289.3248, 130.9945, 372.1386, 2408.993, 2175.744, 4082.015, 90.45606,\n",
            " 390.9696, 104.8101, 90.45606]\n",
            "Length: 414, dtype: float64\n",
            "<PandasArray>\n",
            "[37.9, 42.2, 47.3, 54.8, 43.1, 32.1, 40.3, 46.7, 18.8, 22.1,\n",
            " ...\n",
            " 41.2, 37.2, 40.5, 22.3, 28.1, 15.4, 50.0, 40.6, 52.5, 63.9]\n",
            "Length: 414, dtype: float64\n",
            "Number of sample in data set is:  (414,) (414,)\n"
          ]
        }
      ],
      "source": [
        "\n",
        "#import real_estate.csv\n",
        "url_3 = 'https://raw.githubusercontent.com/nnguyen09/Machine-Learning-/master/assignment2/real_estate.csv'\n",
        "data_real_estate = pd.read_csv(url_3)\n",
        "\n",
        "print(data_real_estate.columns)\n",
        "\n",
        "#Are there any null values in the dataset? Drop any missing data if exist.\n",
        "data_real_estate.dropna(axis = 0, how = 'any')\n",
        "\n",
        "#Create X as a 1-D array of the distance to the nearest MRT station, and y as the housing price\n",
        "X=data_real_estate['X3 distance to the nearest MRT station'].array\n",
        "print(X)\n",
        "Y=data_real_estate['Y house price of unit area'].array\n",
        "print(Y)\n",
        "\n",
        "#What is the number of samples in the data set? To do this, you can look at the \"shape\" of X and y\n",
        "print('Number of sample in data set is: ' , X.shape, Y.shape)\n",
        "\n",
        "\n",
        "\n"
      ]
    },
    {
      "cell_type": "code",
      "source": [
        "\n",
        "#Split the data into train and test sets using sklearn's train_test_split, with test_size = 1/3\n",
        "from sklearn.model_selection import train_test_split\n",
        "from sklearn.metrics import mean_squared_error\n",
        "\n",
        "X_train, X_test, y_train, y_test = train_test_split(X,Y,test_size = 1/3)\n",
        "\n",
        "X_train = X_train.reshape(-1, 1) \n",
        "y_train = y_train.reshape(-1, 1) \n",
        "X_test = X_test.reshape(-1,1)\n",
        "y_test = y_test.reshape(-1,1)\n",
        "\n"
      ],
      "metadata": {
        "id": "T4uq71alZxKj"
      },
      "execution_count": 96,
      "outputs": []
    },
    {
      "cell_type": "code",
      "source": [
        "#Find the line of best fit using a Linear Regression and show the result of coefficients and intercept (you can use sklearn's linear regression)\n",
        "lin_reg = LinearRegression()\n",
        "lin_reg.fit(X_train,y_train)\n",
        "print(lin_reg.intercept_, lin_reg.coef_)\n",
        "\n"
      ],
      "metadata": {
        "colab": {
          "base_uri": "https://localhost:8080/"
        },
        "id": "oLrEJZ48fcMe",
        "outputId": "323303a8-3934-464e-f373-13415385f449"
      },
      "execution_count": 97,
      "outputs": [
        {
          "output_type": "stream",
          "name": "stdout",
          "text": [
            "[46.68201581] [[-0.00764843]]\n"
          ]
        }
      ]
    },
    {
      "cell_type": "code",
      "source": [
        "#Using the predict method, make predictions for the test set and evaluate the performance (e.g., MSE or other metrics).\n",
        "y_predict = lin_reg.predict(X_test)\n",
        "\n",
        "print(mean_squared_error(y_test, y_predict))\n",
        "print(lin_reg.score(X_test,y_test))"
      ],
      "metadata": {
        "colab": {
          "base_uri": "https://localhost:8080/"
        },
        "id": "g_ongPDSgABW",
        "outputId": "22bff2a3-743c-49bf-f61a-4c3e6fdab498"
      },
      "execution_count": 98,
      "outputs": [
        {
          "output_type": "stream",
          "name": "stdout",
          "text": [
            "91.52078612852627\n",
            "0.42585247237704293\n"
          ]
        }
      ]
    }
  ],
  "metadata": {
    "colab": {
      "collapsed_sections": [],
      "name": "Assignment2.ipynb",
      "provenance": []
    },
    "kernelspec": {
      "display_name": "Python 3 (ipykernel)",
      "language": "python",
      "name": "python3"
    },
    "language_info": {
      "codemirror_mode": {
        "name": "ipython",
        "version": 3
      },
      "file_extension": ".py",
      "mimetype": "text/x-python",
      "name": "python",
      "nbconvert_exporter": "python",
      "pygments_lexer": "ipython3",
      "version": "3.9.7"
    }
  },
  "nbformat": 4,
  "nbformat_minor": 0
}