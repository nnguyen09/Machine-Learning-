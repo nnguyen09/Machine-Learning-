{
  "cells": [
    {
      "cell_type": "markdown",
      "source": [
        "# Problem 1"
      ],
      "metadata": {
        "id": "r0ehNnVY_2cp"
      }
    },
    {
      "cell_type": "markdown",
      "metadata": {
        "id": "3x8Y4rlt9ris"
      },
      "source": [
        "Import the numpy package under the name np"
      ]
    },
    {
      "cell_type": "code",
      "source": [
        "import numpy as np\n"
      ],
      "metadata": {
        "id": "bQxMkGSPaDiZ"
      },
      "execution_count": null,
      "outputs": []
    },
    {
      "cell_type": "markdown",
      "metadata": {
        "id": "ud6Eyp7N9riv"
      },
      "source": [
        "Create a vector or 1D array with 10 zeros and print it"
      ]
    },
    {
      "cell_type": "code",
      "source": [
        "array = np.zeros(10)\n",
        "print(array)"
      ],
      "metadata": {
        "colab": {
          "base_uri": "https://localhost:8080/"
        },
        "id": "xk176RzqaEiE",
        "outputId": "3e577bde-dc85-4988-baf4-878314957006"
      },
      "execution_count": null,
      "outputs": [
        {
          "output_type": "stream",
          "name": "stdout",
          "text": [
            "[0. 0. 0. 0. 0. 0. 0. 0. 0. 0.]\n"
          ]
        }
      ]
    },
    {
      "cell_type": "markdown",
      "metadata": {
        "id": "Xmvfx0Wq9rix"
      },
      "source": [
        "Find the memory size of this array"
      ]
    },
    {
      "cell_type": "code",
      "source": [
        "array.size * array.itemsize"
      ],
      "metadata": {
        "colab": {
          "base_uri": "https://localhost:8080/"
        },
        "id": "cMzHO0SDaS40",
        "outputId": "799f587a-dbbb-427d-88a5-5a28f9d728a0"
      },
      "execution_count": null,
      "outputs": [
        {
          "output_type": "execute_result",
          "data": {
            "text/plain": [
              "80"
            ]
          },
          "metadata": {},
          "execution_count": 16
        }
      ]
    },
    {
      "cell_type": "markdown",
      "source": [
        "# Problem 2:"
      ],
      "metadata": {
        "id": "3bU1U0vf_eCI"
      }
    },
    {
      "cell_type": "markdown",
      "metadata": {
        "id": "B1PSglUO9riy"
      },
      "source": [
        "Create another vector or 1D array with values ranging from 10 to 20"
      ]
    },
    {
      "cell_type": "code",
      "source": [
        "a1 = np.arange(10,20)\n",
        "print (a1)"
      ],
      "metadata": {
        "colab": {
          "base_uri": "https://localhost:8080/"
        },
        "id": "PYOHNmJcfx7U",
        "outputId": "c955a78a-29ed-489d-d808-8108c289f548"
      },
      "execution_count": null,
      "outputs": [
        {
          "output_type": "stream",
          "name": "stdout",
          "text": [
            "[10 11 12 13 14 15 16 17 18 19]\n"
          ]
        }
      ]
    },
    {
      "cell_type": "markdown",
      "metadata": {
        "id": "DxTiBXnZ9riz"
      },
      "source": [
        "Reverse the created vector (first element becomes last) -- Is there any NumPy method that you can use?"
      ]
    },
    {
      "cell_type": "code",
      "source": [
        "a1[::-1]"
      ],
      "metadata": {
        "colab": {
          "base_uri": "https://localhost:8080/"
        },
        "id": "BMmSPb7nfy9-",
        "outputId": "fcaed242-0281-4e7a-b17e-8d592a775dd7"
      },
      "execution_count": null,
      "outputs": [
        {
          "output_type": "execute_result",
          "data": {
            "text/plain": [
              "array([19, 18, 17, 16, 15, 14, 13, 12, 11, 10])"
            ]
          },
          "metadata": {},
          "execution_count": 24
        }
      ]
    },
    {
      "cell_type": "markdown",
      "source": [
        "# Problem 3:"
      ],
      "metadata": {
        "id": "BvhkvoQg_hZo"
      }
    },
    {
      "cell_type": "markdown",
      "metadata": {
        "id": "kKg-hGyl9ri2"
      },
      "source": [
        "Create a 3x4 array with random values (standard normal distribution) and find the minimum and maximum values"
      ]
    },
    {
      "cell_type": "code",
      "source": [
        "a2 = np.random.randn(3,4)\n",
        "print(a2)\n",
        "a2Min = a2.min()\n",
        "a2Max = a2.max()\n",
        "print(\"Minimum:\" ,a2Min , \"\\nMaximum: \",a2Max)\n"
      ],
      "metadata": {
        "colab": {
          "base_uri": "https://localhost:8080/"
        },
        "id": "uUi-61-atqK2",
        "outputId": "c7b1ff1d-11dd-4893-aae6-323be9db3efe"
      },
      "execution_count": null,
      "outputs": [
        {
          "output_type": "stream",
          "name": "stdout",
          "text": [
            "[[ 1.60519594  0.5947205   0.98853956 -0.45641549]\n",
            " [-1.1334166  -1.60169723  0.7143697   0.25188313]\n",
            " [ 0.17898603  1.31939673 -0.87656586 -2.425842  ]]\n",
            "Minimum: -2.425841998777636 \n",
            "Maximum:  1.6051959431562948\n"
          ]
        }
      ]
    },
    {
      "cell_type": "markdown",
      "source": [
        "# Problem 4:"
      ],
      "metadata": {
        "id": "hH-Po7fJ_lW6"
      }
    },
    {
      "cell_type": "markdown",
      "metadata": {
        "id": "CLu8jfED9ri3"
      },
      "source": [
        "Given the following 1D array, negate all elements which are between 3 and 8, in place. (include both 3 and 8 in conditional statements)"
      ]
    },
    {
      "cell_type": "code",
      "source": [
        "# note this will not run without completing the first step of problem 1\n",
        "Z = np.arange(11)\n",
        "print(Z)\n",
        "Z[3:9] = np.negative(Z[3:9]) \n",
        "print(Z)"
      ],
      "metadata": {
        "id": "-JzemL2OAsG8",
        "colab": {
          "base_uri": "https://localhost:8080/"
        },
        "outputId": "840eeb88-f6d9-419b-ad01-4d45f7e9016b"
      },
      "execution_count": null,
      "outputs": [
        {
          "output_type": "stream",
          "name": "stdout",
          "text": [
            "[ 0  1  2  3  4  5  6  7  8  9 10]\n",
            "[ 0  1  2 -3 -4 -5 -6 -7 -8  9 10]\n"
          ]
        }
      ]
    },
    {
      "cell_type": "markdown",
      "metadata": {
        "id": "dqjCmIHg9ri5"
      },
      "source": [
        "Given the 1D array Z, find the closest value to the given scalar v?"
      ]
    },
    {
      "cell_type": "code",
      "source": [
        "Z = np.arange(5,100)\n",
        "v = np.array(33.2)\n",
        "i = (np.abs(Z-v)).argmin()\n",
        "value = Z[i]\n",
        "print(value)\n",
        "\n",
        "\n"
      ],
      "metadata": {
        "id": "-x7T0aJTF4Om",
        "colab": {
          "base_uri": "https://localhost:8080/"
        },
        "outputId": "f7c0fd02-03e8-4a6e-91b1-3dcf33fde4a9"
      },
      "execution_count": null,
      "outputs": [
        {
          "output_type": "stream",
          "name": "stdout",
          "text": [
            "33\n"
          ]
        }
      ]
    },
    {
      "cell_type": "markdown",
      "metadata": {
        "id": "8DBhQRBv9ri6"
      },
      "source": [
        "Subtract the mean of each row of the following matrix"
      ]
    },
    {
      "cell_type": "code",
      "source": [
        "np.random.seed(2)\n",
        "X = np.random.rand(3, 4)\n",
        "print(X)\n",
        "\n",
        "\n"
      ],
      "metadata": {
        "id": "qpBqsvNjGUY_",
        "colab": {
          "base_uri": "https://localhost:8080/"
        },
        "outputId": "3cb85ac4-d7ad-417c-c52f-c3d1fbe35824"
      },
      "execution_count": null,
      "outputs": [
        {
          "output_type": "stream",
          "name": "stdout",
          "text": [
            "[[0.4359949  0.02592623 0.54966248 0.43532239]\n",
            " [0.4203678  0.33033482 0.20464863 0.61927097]\n",
            " [0.29965467 0.26682728 0.62113383 0.52914209]]\n"
          ]
        }
      ]
    },
    {
      "cell_type": "code",
      "source": [
        "# complete the following:\n",
        "Y = X - X.mean(axis = 1, keepdims=True)\n",
        "print(Y)"
      ],
      "metadata": {
        "id": "MnMCs3i4GXXm",
        "colab": {
          "base_uri": "https://localhost:8080/"
        },
        "outputId": "bd105248-50b5-4df6-a7b5-03f473caea2a"
      },
      "execution_count": null,
      "outputs": [
        {
          "output_type": "stream",
          "name": "stdout",
          "text": [
            "[[ 0.0742684  -0.33580027  0.18793598  0.07359589]\n",
            " [ 0.02671225 -0.06332073 -0.18900692  0.22561541]\n",
            " [-0.1295348  -0.16236219  0.19194436  0.09995263]]\n"
          ]
        }
      ]
    },
    {
      "cell_type": "markdown",
      "metadata": {
        "id": "nA2jv6ad9ri8"
      },
      "source": [
        "Timing comparison for multiplication of 4 arrays. Find the fastest way to compute the multiplication ABCD. Make sure you report the elapsed time. (hint: you can find relevant information at https://youtu.be/SeBRHg9ZrSs)\n",
        "\n",
        "Complete the following:"
      ]
    },
    {
      "cell_type": "code",
      "source": [
        "A = np.random.random((10000,1000))\n",
        "B = np.random.random((1000,10000))\n",
        "C = np.random.random((10000,5))\n",
        "D = np.random.random((5,1000))\n",
        "\n"
      ],
      "metadata": {
        "id": "LDJAruw4Gs7T"
      },
      "execution_count": null,
      "outputs": []
    },
    {
      "cell_type": "code",
      "source": [
        "import time\n",
        "\n",
        "start = time.time()\n",
        "np.linalg.multi_dot([A, B, C, D])\n",
        "end = time.time()\n",
        "\n",
        "elapsed_time = end - start\n",
        "print(elapsed_time)"
      ],
      "metadata": {
        "id": "h5LAxBUJGuP6",
        "colab": {
          "base_uri": "https://localhost:8080/"
        },
        "outputId": "3ae5d1cf-0f2d-4db9-da1e-731cecef0ce3"
      },
      "execution_count": null,
      "outputs": [
        {
          "output_type": "stream",
          "name": "stdout",
          "text": [
            "0.17145204544067383\n"
          ]
        }
      ]
    },
    {
      "cell_type": "markdown",
      "source": [
        "# Problem 5"
      ],
      "metadata": {
        "id": "y3M9zqvyD3u5"
      }
    },
    {
      "cell_type": "markdown",
      "metadata": {
        "id": "620Iq_0-9ri-"
      },
      "source": [
        "Import and print the file 'parks.csv' (Park Code should be the index column)"
      ]
    },
    {
      "cell_type": "code",
      "source": [
        "from google.colab import drive\n",
        "drive.mount('/content/drive')"
      ],
      "metadata": {
        "colab": {
          "base_uri": "https://localhost:8080/"
        },
        "id": "XBAEUI7smfS2",
        "outputId": "a11529ec-77ea-4223-e8c2-c9738adc4bef"
      },
      "execution_count": null,
      "outputs": [
        {
          "output_type": "stream",
          "name": "stdout",
          "text": [
            "Mounted at /content/drive\n"
          ]
        }
      ]
    },
    {
      "cell_type": "code",
      "source": [
        "import pandas as pd\n",
        "path = \"/content/drive/MyDrive/CVS/parks.csv\"\n",
        "df = pd.read_csv (path, index_col=['Park Code'])\n",
        "df"
      ],
      "metadata": {
        "id": "wcHwoNzcmplP",
        "colab": {
          "base_uri": "https://localhost:8080/",
          "height": 1000
        },
        "outputId": "2501bba4-8817-4bfc-b12f-42819effe3d2"
      },
      "execution_count": 41,
      "outputs": [
        {
          "output_type": "execute_result",
          "data": {
            "text/html": [
              "\n",
              "  <div id=\"df-4030cdd3-e4b4-4895-95ca-09cc74fd27c9\">\n",
              "    <div class=\"colab-df-container\">\n",
              "      <div>\n",
              "<style scoped>\n",
              "    .dataframe tbody tr th:only-of-type {\n",
              "        vertical-align: middle;\n",
              "    }\n",
              "\n",
              "    .dataframe tbody tr th {\n",
              "        vertical-align: top;\n",
              "    }\n",
              "\n",
              "    .dataframe thead th {\n",
              "        text-align: right;\n",
              "    }\n",
              "</style>\n",
              "<table border=\"1\" class=\"dataframe\">\n",
              "  <thead>\n",
              "    <tr style=\"text-align: right;\">\n",
              "      <th></th>\n",
              "      <th>Park Name</th>\n",
              "      <th>State</th>\n",
              "      <th>Acres</th>\n",
              "      <th>Latitude</th>\n",
              "      <th>Longitude</th>\n",
              "    </tr>\n",
              "    <tr>\n",
              "      <th>Park Code</th>\n",
              "      <th></th>\n",
              "      <th></th>\n",
              "      <th></th>\n",
              "      <th></th>\n",
              "      <th></th>\n",
              "    </tr>\n",
              "  </thead>\n",
              "  <tbody>\n",
              "    <tr>\n",
              "      <th>ACAD</th>\n",
              "      <td>Acadia National Park</td>\n",
              "      <td>ME</td>\n",
              "      <td>47390</td>\n",
              "      <td>44.35</td>\n",
              "      <td>-68.21</td>\n",
              "    </tr>\n",
              "    <tr>\n",
              "      <th>ARCH</th>\n",
              "      <td>Arches National Park</td>\n",
              "      <td>UT</td>\n",
              "      <td>76519</td>\n",
              "      <td>38.68</td>\n",
              "      <td>-109.57</td>\n",
              "    </tr>\n",
              "    <tr>\n",
              "      <th>BADL</th>\n",
              "      <td>Badlands National Park</td>\n",
              "      <td>SD</td>\n",
              "      <td>242756</td>\n",
              "      <td>43.75</td>\n",
              "      <td>-102.50</td>\n",
              "    </tr>\n",
              "    <tr>\n",
              "      <th>BIBE</th>\n",
              "      <td>Big Bend National Park</td>\n",
              "      <td>TX</td>\n",
              "      <td>801163</td>\n",
              "      <td>29.25</td>\n",
              "      <td>-103.25</td>\n",
              "    </tr>\n",
              "    <tr>\n",
              "      <th>BISC</th>\n",
              "      <td>Biscayne National Park</td>\n",
              "      <td>FL</td>\n",
              "      <td>172924</td>\n",
              "      <td>25.65</td>\n",
              "      <td>-80.08</td>\n",
              "    </tr>\n",
              "    <tr>\n",
              "      <th>BLCA</th>\n",
              "      <td>Black Canyon of the Gunnison National Park</td>\n",
              "      <td>CO</td>\n",
              "      <td>32950</td>\n",
              "      <td>38.57</td>\n",
              "      <td>-107.72</td>\n",
              "    </tr>\n",
              "    <tr>\n",
              "      <th>BRCA</th>\n",
              "      <td>Bryce Canyon National Park</td>\n",
              "      <td>UT</td>\n",
              "      <td>35835</td>\n",
              "      <td>37.57</td>\n",
              "      <td>-112.18</td>\n",
              "    </tr>\n",
              "    <tr>\n",
              "      <th>CANY</th>\n",
              "      <td>Canyonlands National Park</td>\n",
              "      <td>UT</td>\n",
              "      <td>337598</td>\n",
              "      <td>38.20</td>\n",
              "      <td>-109.93</td>\n",
              "    </tr>\n",
              "    <tr>\n",
              "      <th>CARE</th>\n",
              "      <td>Capitol Reef National Park</td>\n",
              "      <td>UT</td>\n",
              "      <td>241904</td>\n",
              "      <td>38.20</td>\n",
              "      <td>-111.17</td>\n",
              "    </tr>\n",
              "    <tr>\n",
              "      <th>CAVE</th>\n",
              "      <td>Carlsbad Caverns National Park</td>\n",
              "      <td>NM</td>\n",
              "      <td>46766</td>\n",
              "      <td>32.17</td>\n",
              "      <td>-104.44</td>\n",
              "    </tr>\n",
              "    <tr>\n",
              "      <th>CHIS</th>\n",
              "      <td>Channel Islands National Park</td>\n",
              "      <td>CA</td>\n",
              "      <td>249561</td>\n",
              "      <td>34.01</td>\n",
              "      <td>-119.42</td>\n",
              "    </tr>\n",
              "    <tr>\n",
              "      <th>CONG</th>\n",
              "      <td>Congaree National Park</td>\n",
              "      <td>SC</td>\n",
              "      <td>26546</td>\n",
              "      <td>33.78</td>\n",
              "      <td>-80.78</td>\n",
              "    </tr>\n",
              "    <tr>\n",
              "      <th>CRLA</th>\n",
              "      <td>Crater Lake National Park</td>\n",
              "      <td>OR</td>\n",
              "      <td>183224</td>\n",
              "      <td>42.94</td>\n",
              "      <td>-122.10</td>\n",
              "    </tr>\n",
              "    <tr>\n",
              "      <th>CUVA</th>\n",
              "      <td>Cuyahoga Valley National Park</td>\n",
              "      <td>OH</td>\n",
              "      <td>32950</td>\n",
              "      <td>41.24</td>\n",
              "      <td>-81.55</td>\n",
              "    </tr>\n",
              "    <tr>\n",
              "      <th>DENA</th>\n",
              "      <td>Denali National Park and Preserve</td>\n",
              "      <td>AK</td>\n",
              "      <td>3372402</td>\n",
              "      <td>63.33</td>\n",
              "      <td>-150.50</td>\n",
              "    </tr>\n",
              "    <tr>\n",
              "      <th>DEVA</th>\n",
              "      <td>Death Valley National Park</td>\n",
              "      <td>CA, NV</td>\n",
              "      <td>4740912</td>\n",
              "      <td>36.24</td>\n",
              "      <td>-116.82</td>\n",
              "    </tr>\n",
              "    <tr>\n",
              "      <th>DRTO</th>\n",
              "      <td>Dry Tortugas National Park</td>\n",
              "      <td>FL</td>\n",
              "      <td>64701</td>\n",
              "      <td>24.63</td>\n",
              "      <td>-82.87</td>\n",
              "    </tr>\n",
              "    <tr>\n",
              "      <th>EVER</th>\n",
              "      <td>Everglades National Park</td>\n",
              "      <td>FL</td>\n",
              "      <td>1508538</td>\n",
              "      <td>25.32</td>\n",
              "      <td>-80.93</td>\n",
              "    </tr>\n",
              "    <tr>\n",
              "      <th>GAAR</th>\n",
              "      <td>Gates Of The Arctic National Park and Preserve</td>\n",
              "      <td>AK</td>\n",
              "      <td>7523898</td>\n",
              "      <td>67.78</td>\n",
              "      <td>-153.30</td>\n",
              "    </tr>\n",
              "    <tr>\n",
              "      <th>GLAC</th>\n",
              "      <td>Glacier National Park</td>\n",
              "      <td>MT</td>\n",
              "      <td>1013572</td>\n",
              "      <td>48.80</td>\n",
              "      <td>-114.00</td>\n",
              "    </tr>\n",
              "    <tr>\n",
              "      <th>GLBA</th>\n",
              "      <td>Glacier Bay National Park and Preserve</td>\n",
              "      <td>AK</td>\n",
              "      <td>3224840</td>\n",
              "      <td>58.50</td>\n",
              "      <td>-137.00</td>\n",
              "    </tr>\n",
              "    <tr>\n",
              "      <th>GRBA</th>\n",
              "      <td>Great Basin National Park</td>\n",
              "      <td>NV</td>\n",
              "      <td>77180</td>\n",
              "      <td>38.98</td>\n",
              "      <td>-114.30</td>\n",
              "    </tr>\n",
              "    <tr>\n",
              "      <th>GRCA</th>\n",
              "      <td>Grand Canyon National Park</td>\n",
              "      <td>AZ</td>\n",
              "      <td>1217403</td>\n",
              "      <td>36.06</td>\n",
              "      <td>-112.14</td>\n",
              "    </tr>\n",
              "    <tr>\n",
              "      <th>GRSA</th>\n",
              "      <td>Great Sand Dunes National Park and Preserve</td>\n",
              "      <td>CO</td>\n",
              "      <td>42984</td>\n",
              "      <td>37.73</td>\n",
              "      <td>-105.51</td>\n",
              "    </tr>\n",
              "    <tr>\n",
              "      <th>GRSM</th>\n",
              "      <td>Great Smoky Mountains National Park</td>\n",
              "      <td>TN, NC</td>\n",
              "      <td>521490</td>\n",
              "      <td>35.68</td>\n",
              "      <td>-83.53</td>\n",
              "    </tr>\n",
              "    <tr>\n",
              "      <th>GRTE</th>\n",
              "      <td>Grand Teton National Park</td>\n",
              "      <td>WY</td>\n",
              "      <td>309995</td>\n",
              "      <td>43.73</td>\n",
              "      <td>-110.80</td>\n",
              "    </tr>\n",
              "    <tr>\n",
              "      <th>GUMO</th>\n",
              "      <td>Guadalupe Mountains National Park</td>\n",
              "      <td>TX</td>\n",
              "      <td>86416</td>\n",
              "      <td>31.92</td>\n",
              "      <td>-104.87</td>\n",
              "    </tr>\n",
              "    <tr>\n",
              "      <th>HALE</th>\n",
              "      <td>Haleakala National Park</td>\n",
              "      <td>HI</td>\n",
              "      <td>29094</td>\n",
              "      <td>20.72</td>\n",
              "      <td>-156.17</td>\n",
              "    </tr>\n",
              "    <tr>\n",
              "      <th>HAVO</th>\n",
              "      <td>Hawaii Volcanoes National Park</td>\n",
              "      <td>HI</td>\n",
              "      <td>323431</td>\n",
              "      <td>19.38</td>\n",
              "      <td>-155.20</td>\n",
              "    </tr>\n",
              "    <tr>\n",
              "      <th>HOSP</th>\n",
              "      <td>Hot Springs National Park</td>\n",
              "      <td>AR</td>\n",
              "      <td>5550</td>\n",
              "      <td>34.51</td>\n",
              "      <td>-93.05</td>\n",
              "    </tr>\n",
              "    <tr>\n",
              "      <th>ISRO</th>\n",
              "      <td>Isle Royale National Park</td>\n",
              "      <td>MI</td>\n",
              "      <td>571790</td>\n",
              "      <td>48.10</td>\n",
              "      <td>-88.55</td>\n",
              "    </tr>\n",
              "    <tr>\n",
              "      <th>JOTR</th>\n",
              "      <td>Joshua Tree National Park</td>\n",
              "      <td>CA</td>\n",
              "      <td>789745</td>\n",
              "      <td>33.79</td>\n",
              "      <td>-115.90</td>\n",
              "    </tr>\n",
              "    <tr>\n",
              "      <th>KATM</th>\n",
              "      <td>Katmai National Park and Preserve</td>\n",
              "      <td>AK</td>\n",
              "      <td>3674530</td>\n",
              "      <td>58.50</td>\n",
              "      <td>-155.00</td>\n",
              "    </tr>\n",
              "    <tr>\n",
              "      <th>KEFJ</th>\n",
              "      <td>Kenai Fjords National Park</td>\n",
              "      <td>AK</td>\n",
              "      <td>669983</td>\n",
              "      <td>59.92</td>\n",
              "      <td>-149.65</td>\n",
              "    </tr>\n",
              "    <tr>\n",
              "      <th>KOVA</th>\n",
              "      <td>Kobuk Valley National Park</td>\n",
              "      <td>AK</td>\n",
              "      <td>1750717</td>\n",
              "      <td>67.55</td>\n",
              "      <td>-159.28</td>\n",
              "    </tr>\n",
              "    <tr>\n",
              "      <th>LACL</th>\n",
              "      <td>Lake Clark National Park and Preserve</td>\n",
              "      <td>AK</td>\n",
              "      <td>2619733</td>\n",
              "      <td>60.97</td>\n",
              "      <td>-153.42</td>\n",
              "    </tr>\n",
              "    <tr>\n",
              "      <th>LAVO</th>\n",
              "      <td>Lassen Volcanic National Park</td>\n",
              "      <td>CA</td>\n",
              "      <td>106372</td>\n",
              "      <td>40.49</td>\n",
              "      <td>-121.51</td>\n",
              "    </tr>\n",
              "    <tr>\n",
              "      <th>MACA</th>\n",
              "      <td>Mammoth Cave National Park</td>\n",
              "      <td>KY</td>\n",
              "      <td>52830</td>\n",
              "      <td>37.18</td>\n",
              "      <td>-86.10</td>\n",
              "    </tr>\n",
              "    <tr>\n",
              "      <th>MEVE</th>\n",
              "      <td>Mesa Verde National Park</td>\n",
              "      <td>CO</td>\n",
              "      <td>52122</td>\n",
              "      <td>37.18</td>\n",
              "      <td>-108.49</td>\n",
              "    </tr>\n",
              "    <tr>\n",
              "      <th>MORA</th>\n",
              "      <td>Mount Rainier National Park</td>\n",
              "      <td>WA</td>\n",
              "      <td>235625</td>\n",
              "      <td>46.85</td>\n",
              "      <td>-121.75</td>\n",
              "    </tr>\n",
              "    <tr>\n",
              "      <th>NOCA</th>\n",
              "      <td>North Cascades National Park</td>\n",
              "      <td>WA</td>\n",
              "      <td>504781</td>\n",
              "      <td>48.70</td>\n",
              "      <td>-121.20</td>\n",
              "    </tr>\n",
              "    <tr>\n",
              "      <th>OLYM</th>\n",
              "      <td>Olympic National Park</td>\n",
              "      <td>WA</td>\n",
              "      <td>922651</td>\n",
              "      <td>47.97</td>\n",
              "      <td>-123.50</td>\n",
              "    </tr>\n",
              "    <tr>\n",
              "      <th>PEFO</th>\n",
              "      <td>Petrified Forest National Park</td>\n",
              "      <td>AZ</td>\n",
              "      <td>93533</td>\n",
              "      <td>35.07</td>\n",
              "      <td>-109.78</td>\n",
              "    </tr>\n",
              "    <tr>\n",
              "      <th>PINN</th>\n",
              "      <td>Pinnacles National Park</td>\n",
              "      <td>CA</td>\n",
              "      <td>26606</td>\n",
              "      <td>36.48</td>\n",
              "      <td>-121.16</td>\n",
              "    </tr>\n",
              "    <tr>\n",
              "      <th>REDW</th>\n",
              "      <td>Redwood National Park</td>\n",
              "      <td>CA</td>\n",
              "      <td>112512</td>\n",
              "      <td>41.30</td>\n",
              "      <td>-124.00</td>\n",
              "    </tr>\n",
              "    <tr>\n",
              "      <th>ROMO</th>\n",
              "      <td>Rocky Mountain National Park</td>\n",
              "      <td>CO</td>\n",
              "      <td>265828</td>\n",
              "      <td>40.40</td>\n",
              "      <td>-105.58</td>\n",
              "    </tr>\n",
              "    <tr>\n",
              "      <th>SAGU</th>\n",
              "      <td>Saguaro National Park</td>\n",
              "      <td>AZ</td>\n",
              "      <td>91440</td>\n",
              "      <td>32.25</td>\n",
              "      <td>-110.50</td>\n",
              "    </tr>\n",
              "    <tr>\n",
              "      <th>SEKI</th>\n",
              "      <td>Sequoia and Kings Canyon National Parks</td>\n",
              "      <td>CA</td>\n",
              "      <td>865952</td>\n",
              "      <td>36.43</td>\n",
              "      <td>-118.68</td>\n",
              "    </tr>\n",
              "    <tr>\n",
              "      <th>SHEN</th>\n",
              "      <td>Shenandoah National Park</td>\n",
              "      <td>VA</td>\n",
              "      <td>199045</td>\n",
              "      <td>38.53</td>\n",
              "      <td>-78.35</td>\n",
              "    </tr>\n",
              "    <tr>\n",
              "      <th>THRO</th>\n",
              "      <td>Theodore Roosevelt National Park</td>\n",
              "      <td>ND</td>\n",
              "      <td>70447</td>\n",
              "      <td>46.97</td>\n",
              "      <td>-103.45</td>\n",
              "    </tr>\n",
              "    <tr>\n",
              "      <th>VOYA</th>\n",
              "      <td>Voyageurs National Park</td>\n",
              "      <td>MN</td>\n",
              "      <td>218200</td>\n",
              "      <td>48.50</td>\n",
              "      <td>-92.88</td>\n",
              "    </tr>\n",
              "    <tr>\n",
              "      <th>WICA</th>\n",
              "      <td>Wind Cave National Park</td>\n",
              "      <td>SD</td>\n",
              "      <td>28295</td>\n",
              "      <td>43.57</td>\n",
              "      <td>-103.48</td>\n",
              "    </tr>\n",
              "    <tr>\n",
              "      <th>WRST</th>\n",
              "      <td>Wrangell - St Elias National Park and Preserve</td>\n",
              "      <td>AK</td>\n",
              "      <td>8323148</td>\n",
              "      <td>61.00</td>\n",
              "      <td>-142.00</td>\n",
              "    </tr>\n",
              "    <tr>\n",
              "      <th>YELL</th>\n",
              "      <td>Yellowstone National Park</td>\n",
              "      <td>WY, MT, ID</td>\n",
              "      <td>2219791</td>\n",
              "      <td>44.60</td>\n",
              "      <td>-110.50</td>\n",
              "    </tr>\n",
              "    <tr>\n",
              "      <th>YOSE</th>\n",
              "      <td>Yosemite National Park</td>\n",
              "      <td>CA</td>\n",
              "      <td>761266</td>\n",
              "      <td>37.83</td>\n",
              "      <td>-119.50</td>\n",
              "    </tr>\n",
              "    <tr>\n",
              "      <th>ZION</th>\n",
              "      <td>Zion National Park</td>\n",
              "      <td>UT</td>\n",
              "      <td>146598</td>\n",
              "      <td>37.30</td>\n",
              "      <td>-113.05</td>\n",
              "    </tr>\n",
              "  </tbody>\n",
              "</table>\n",
              "</div>\n",
              "      <button class=\"colab-df-convert\" onclick=\"convertToInteractive('df-4030cdd3-e4b4-4895-95ca-09cc74fd27c9')\"\n",
              "              title=\"Convert this dataframe to an interactive table.\"\n",
              "              style=\"display:none;\">\n",
              "        \n",
              "  <svg xmlns=\"http://www.w3.org/2000/svg\" height=\"24px\"viewBox=\"0 0 24 24\"\n",
              "       width=\"24px\">\n",
              "    <path d=\"M0 0h24v24H0V0z\" fill=\"none\"/>\n",
              "    <path d=\"M18.56 5.44l.94 2.06.94-2.06 2.06-.94-2.06-.94-.94-2.06-.94 2.06-2.06.94zm-11 1L8.5 8.5l.94-2.06 2.06-.94-2.06-.94L8.5 2.5l-.94 2.06-2.06.94zm10 10l.94 2.06.94-2.06 2.06-.94-2.06-.94-.94-2.06-.94 2.06-2.06.94z\"/><path d=\"M17.41 7.96l-1.37-1.37c-.4-.4-.92-.59-1.43-.59-.52 0-1.04.2-1.43.59L10.3 9.45l-7.72 7.72c-.78.78-.78 2.05 0 2.83L4 21.41c.39.39.9.59 1.41.59.51 0 1.02-.2 1.41-.59l7.78-7.78 2.81-2.81c.8-.78.8-2.07 0-2.86zM5.41 20L4 18.59l7.72-7.72 1.47 1.35L5.41 20z\"/>\n",
              "  </svg>\n",
              "      </button>\n",
              "      \n",
              "  <style>\n",
              "    .colab-df-container {\n",
              "      display:flex;\n",
              "      flex-wrap:wrap;\n",
              "      gap: 12px;\n",
              "    }\n",
              "\n",
              "    .colab-df-convert {\n",
              "      background-color: #E8F0FE;\n",
              "      border: none;\n",
              "      border-radius: 50%;\n",
              "      cursor: pointer;\n",
              "      display: none;\n",
              "      fill: #1967D2;\n",
              "      height: 32px;\n",
              "      padding: 0 0 0 0;\n",
              "      width: 32px;\n",
              "    }\n",
              "\n",
              "    .colab-df-convert:hover {\n",
              "      background-color: #E2EBFA;\n",
              "      box-shadow: 0px 1px 2px rgba(60, 64, 67, 0.3), 0px 1px 3px 1px rgba(60, 64, 67, 0.15);\n",
              "      fill: #174EA6;\n",
              "    }\n",
              "\n",
              "    [theme=dark] .colab-df-convert {\n",
              "      background-color: #3B4455;\n",
              "      fill: #D2E3FC;\n",
              "    }\n",
              "\n",
              "    [theme=dark] .colab-df-convert:hover {\n",
              "      background-color: #434B5C;\n",
              "      box-shadow: 0px 1px 3px 1px rgba(0, 0, 0, 0.15);\n",
              "      filter: drop-shadow(0px 1px 2px rgba(0, 0, 0, 0.3));\n",
              "      fill: #FFFFFF;\n",
              "    }\n",
              "  </style>\n",
              "\n",
              "      <script>\n",
              "        const buttonEl =\n",
              "          document.querySelector('#df-4030cdd3-e4b4-4895-95ca-09cc74fd27c9 button.colab-df-convert');\n",
              "        buttonEl.style.display =\n",
              "          google.colab.kernel.accessAllowed ? 'block' : 'none';\n",
              "\n",
              "        async function convertToInteractive(key) {\n",
              "          const element = document.querySelector('#df-4030cdd3-e4b4-4895-95ca-09cc74fd27c9');\n",
              "          const dataTable =\n",
              "            await google.colab.kernel.invokeFunction('convertToInteractive',\n",
              "                                                     [key], {});\n",
              "          if (!dataTable) return;\n",
              "\n",
              "          const docLinkHtml = 'Like what you see? Visit the ' +\n",
              "            '<a target=\"_blank\" href=https://colab.research.google.com/notebooks/data_table.ipynb>data table notebook</a>'\n",
              "            + ' to learn more about interactive tables.';\n",
              "          element.innerHTML = '';\n",
              "          dataTable['output_type'] = 'display_data';\n",
              "          await google.colab.output.renderOutput(dataTable, element);\n",
              "          const docLink = document.createElement('div');\n",
              "          docLink.innerHTML = docLinkHtml;\n",
              "          element.appendChild(docLink);\n",
              "        }\n",
              "      </script>\n",
              "    </div>\n",
              "  </div>\n",
              "  "
            ],
            "text/plain": [
              "                                                Park Name   ... Longitude \n",
              "Park Code                                                   ...           \n",
              "ACAD                                 Acadia National Park   ...     -68.21\n",
              "ARCH                                 Arches National Park   ...    -109.57\n",
              "BADL                               Badlands National Park   ...    -102.50\n",
              "BIBE                               Big Bend National Park   ...    -103.25\n",
              "BISC                               Biscayne National Park   ...     -80.08\n",
              "BLCA           Black Canyon of the Gunnison National Park   ...    -107.72\n",
              "BRCA                           Bryce Canyon National Park   ...    -112.18\n",
              "CANY                            Canyonlands National Park   ...    -109.93\n",
              "CARE                           Capitol Reef National Park   ...    -111.17\n",
              "CAVE                       Carlsbad Caverns National Park   ...    -104.44\n",
              "CHIS                        Channel Islands National Park   ...    -119.42\n",
              "CONG                               Congaree National Park   ...     -80.78\n",
              "CRLA                            Crater Lake National Park   ...    -122.10\n",
              "CUVA                        Cuyahoga Valley National Park   ...     -81.55\n",
              "DENA                    Denali National Park and Preserve   ...    -150.50\n",
              "DEVA                           Death Valley National Park   ...    -116.82\n",
              "DRTO                           Dry Tortugas National Park   ...     -82.87\n",
              "EVER                             Everglades National Park   ...     -80.93\n",
              "GAAR       Gates Of The Arctic National Park and Preserve   ...    -153.30\n",
              "GLAC                                Glacier National Park   ...    -114.00\n",
              "GLBA               Glacier Bay National Park and Preserve   ...    -137.00\n",
              "GRBA                            Great Basin National Park   ...    -114.30\n",
              "GRCA                           Grand Canyon National Park   ...    -112.14\n",
              "GRSA          Great Sand Dunes National Park and Preserve   ...    -105.51\n",
              "GRSM                  Great Smoky Mountains National Park   ...     -83.53\n",
              "GRTE                            Grand Teton National Park   ...    -110.80\n",
              "GUMO                    Guadalupe Mountains National Park   ...    -104.87\n",
              "HALE                              Haleakala National Park   ...    -156.17\n",
              "HAVO                       Hawaii Volcanoes National Park   ...    -155.20\n",
              "HOSP                            Hot Springs National Park   ...     -93.05\n",
              "ISRO                            Isle Royale National Park   ...     -88.55\n",
              "JOTR                            Joshua Tree National Park   ...    -115.90\n",
              "KATM                    Katmai National Park and Preserve   ...    -155.00\n",
              "KEFJ                           Kenai Fjords National Park   ...    -149.65\n",
              "KOVA                           Kobuk Valley National Park   ...    -159.28\n",
              "LACL                Lake Clark National Park and Preserve   ...    -153.42\n",
              "LAVO                        Lassen Volcanic National Park   ...    -121.51\n",
              "MACA                           Mammoth Cave National Park   ...     -86.10\n",
              "MEVE                             Mesa Verde National Park   ...    -108.49\n",
              "MORA                          Mount Rainier National Park   ...    -121.75\n",
              "NOCA                         North Cascades National Park   ...    -121.20\n",
              "OLYM                                Olympic National Park   ...    -123.50\n",
              "PEFO                       Petrified Forest National Park   ...    -109.78\n",
              "PINN                              Pinnacles National Park   ...    -121.16\n",
              "REDW                                Redwood National Park   ...    -124.00\n",
              "ROMO                         Rocky Mountain National Park   ...    -105.58\n",
              "SAGU                                Saguaro National Park   ...    -110.50\n",
              "SEKI              Sequoia and Kings Canyon National Parks   ...    -118.68\n",
              "SHEN                             Shenandoah National Park   ...     -78.35\n",
              "THRO                     Theodore Roosevelt National Park   ...    -103.45\n",
              "VOYA                              Voyageurs National Park   ...     -92.88\n",
              "WICA                              Wind Cave National Park   ...    -103.48\n",
              "WRST       Wrangell - St Elias National Park and Preserve   ...    -142.00\n",
              "YELL                            Yellowstone National Park   ...    -110.50\n",
              "YOSE                               Yosemite National Park   ...    -119.50\n",
              "ZION                                   Zion National Park   ...    -113.05\n",
              "\n",
              "[56 rows x 5 columns]"
            ]
          },
          "metadata": {},
          "execution_count": 41
        }
      ]
    },
    {
      "cell_type": "markdown",
      "metadata": {
        "id": "Qh01jiYP9ri_"
      },
      "source": [
        "Print all column names"
      ]
    },
    {
      "cell_type": "code",
      "source": [
        "for col in df.columns:\n",
        "  print(col)"
      ],
      "metadata": {
        "id": "3pIrupl8epdg",
        "colab": {
          "base_uri": "https://localhost:8080/"
        },
        "outputId": "f6573220-3fc2-464b-bb10-3b41e8240433"
      },
      "execution_count": 10,
      "outputs": [
        {
          "output_type": "stream",
          "name": "stdout",
          "text": [
            "Park Name \n",
            "State \n",
            "Acres \n",
            "Latitude \n",
            "Longitude \n"
          ]
        }
      ]
    },
    {
      "cell_type": "markdown",
      "metadata": {
        "id": "Bv2LMi1X9ri_"
      },
      "source": [
        "Make sure tha all letters are lower case and replace space with _"
      ]
    },
    {
      "cell_type": "code",
      "source": [
        "df.columns = [col.replace(' ','_').lower() for col in df.columns]\n",
        "print(df.columns)"
      ],
      "metadata": {
        "colab": {
          "base_uri": "https://localhost:8080/"
        },
        "id": "fXtxFe_0jWah",
        "outputId": "ea940aff-ba47-497c-c465-f42be41b7897"
      },
      "execution_count": 14,
      "outputs": [
        {
          "output_type": "stream",
          "name": "stdout",
          "text": [
            "Index(['park_name_', 'state_', 'acres_', 'latitude_', 'longitude_'], dtype='object')\n"
          ]
        }
      ]
    },
    {
      "cell_type": "markdown",
      "metadata": {
        "id": "-XpKyWnn9rjA"
      },
      "source": [
        "Which state has the smallest national park?"
      ]
    },
    {
      "cell_type": "code",
      "source": [
        "df.loc[df['Acres '].idxmin(), 'State ']"
      ],
      "metadata": {
        "colab": {
          "base_uri": "https://localhost:8080/",
          "height": 35
        },
        "id": "2GuMvleckLOU",
        "outputId": "4db7999b-c482-4bd3-c117-5251491d5493"
      },
      "execution_count": 62,
      "outputs": [
        {
          "output_type": "execute_result",
          "data": {
            "application/vnd.google.colaboratory.intrinsic+json": {
              "type": "string"
            },
            "text/plain": [
              "'AR '"
            ]
          },
          "metadata": {},
          "execution_count": 62
        }
      ]
    },
    {
      "cell_type": "markdown",
      "metadata": {
        "id": "fAvURnHN9rjB"
      },
      "source": [
        "Produce a histogram plot that shows the distribution of 'acres'. "
      ]
    },
    {
      "cell_type": "code",
      "source": [
        "df.hist(column = \"Acres \")"
      ],
      "metadata": {
        "colab": {
          "base_uri": "https://localhost:8080/",
          "height": 329
        },
        "id": "y6tlJQKRyHgi",
        "outputId": "003039a7-3e77-478a-ae9f-b87206a261b3"
      },
      "execution_count": 64,
      "outputs": [
        {
          "output_type": "execute_result",
          "data": {
            "text/plain": [
              "array([[<matplotlib.axes._subplots.AxesSubplot object at 0x7fdbc7e014d0>]],\n",
              "      dtype=object)"
            ]
          },
          "metadata": {},
          "execution_count": 64
        },
        {
          "output_type": "display_data",
          "data": {
            "image/png": "[encoded data removed]",
            "text/plain": [
              "<Figure size 432x288 with 1 Axes>"
            ]
          },
          "metadata": {
            "needs_background": "light"
          }
        }
      ]
    }
  ],
  "metadata": {
    "kernelspec": {
      "display_name": "Python 3",
      "language": "python",
      "name": "python3"
    },
    "language_info": {
      "codemirror_mode": {
        "name": "ipython",
        "version": 3
      },
      "file_extension": ".py",
      "mimetype": "text/x-python",
      "name": "python",
      "nbconvert_exporter": "python",
      "pygments_lexer": "ipython3",
      "version": "3.7.4"
    },
    "colab": {
      "name": "Assignment1.ipynb",
      "provenance": [],
      "collapsed_sections": []
    }
  },
  "nbformat": 4,
  "nbformat_minor": 0
}